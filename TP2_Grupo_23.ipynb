{
  "nbformat": 4,
  "nbformat_minor": 0,
  "metadata": {
    "colab": {
      "provenance": [],
      "authorship_tag": "ABX9TyOTBkhFG0qLmu6LpAlgll5I",
      "include_colab_link": true
    },
    "kernelspec": {
      "name": "python3",
      "display_name": "Python 3"
    },
    "language_info": {
      "name": "python"
    }
  },
  "cells": [
    {
      "cell_type": "markdown",
      "metadata": {
        "id": "view-in-github",
        "colab_type": "text"
      },
      "source": [
        "<a href=\"https://colab.research.google.com/github/juansearg/colab/blob/main/TP2_Grupo_23.ipynb\" target=\"_parent\"><img src=\"https://colab.research.google.com/assets/colab-badge.svg\" alt=\"Open In Colab\"/></a>"
      ]
    },
    {
      "cell_type": "markdown",
      "source": [
        "1. Sea $x \\in \\mathbb{R}$, se define la función parte entera $\\lfloor x\\rfloor$, o también denominada función\n",
        "piso, al máximo entero $z$ que verifica la desigualdad $z≤x$. En fórmulas:\n",
        "\\begin{aligned}\n",
        "\\lfloor x\\rfloor = max \\{z \\in \\mathbb{Z}  \\small\\text{ tal que } z ≤ x\\}\n",
        "\\end{aligned}\n",
        "Consideramos la función\n",
        "\\begin{aligned}\n",
        "f(x) = x^\\frac{1}{3} + \\left\\lfloor\\frac{x}{5}\\right\\rfloor \n",
        "\\end{aligned}\n",
        " 1. a) Hacer un gráfico en Python. Graficar entre $-30$ y $30$, con 1000 puntos, y elegir el modo punteado \".\". Con ayuda de la observación del gráfico, determinar todos los puntos de continuidad y discontinuidad de $f$. \n",
        " Considerar que la parte entera de $x$ puede evaluarse con la función $\\small\\texttt{np.floor(x)}$. De manera que $\\small\\texttt{np.cbrt(x) + np.floor(x/5)}$ es una expresión válida en Python para $f(x)$.\n",
        "\n",
        " 1. b) Demostrar por definición la continuidad o discontinuidad de $f$ según corresponda en los puntos $x_0 = 5$ y en $x_0 = 6$. Hacerlo calculando el límite o los límites laterales."
      ],
      "metadata": {
        "id": "UIjOatY2p5lu"
      }
    },
    {
      "cell_type": "markdown",
      "source": [
        "1.a) Hacer un gráfico en Python. Graficar entre $-30$ y $30$, con 1000 puntos, y elegir el modo punteado \".\". Con ayuda de la observación del gráfico, determinar todos los puntos de continuidad y discontinuidad de $f$. \n",
        " Considerar que la parte entera de $x$ puede evaluarse con la función $\\small\\texttt{np.floor(x)}$. De manera que $\\small\\texttt{np.cbrt(x) + np.floor(x/5)}$ es una expresión válida en Python para $f(x)$."
      ],
      "metadata": {
        "id": "TOFCtzR8LzdO"
      }
    },
    {
      "cell_type": "code",
      "source": [
        "import math #se importan las librería que nos permitirá realizar distintas operaciones matemáticas.\n",
        "import numpy as np\n",
        "import matplotlib.pyplot as plt #librería utilizada para graficar.\n",
        "import pandas as pd #librería para el manejo de datasets."
      ],
      "metadata": {
        "id": "_mehXJbsLJBe"
      },
      "execution_count": 20,
      "outputs": []
    },
    {
      "cell_type": "markdown",
      "source": [
        "Creamos la lista de valores de $x$."
      ],
      "metadata": {
        "id": "j3uz2s5gNpdn"
      }
    },
    {
      "cell_type": "code",
      "source": [
        "x = np.linspace(-30,30,num=1000) #utilizamos la función de numpy linspace(inicio,final,cantidad)."
      ],
      "metadata": {
        "id": "kj1u-4jENAAH"
      },
      "execution_count": 21,
      "outputs": []
    },
    {
      "cell_type": "markdown",
      "source": [
        "Graficamos."
      ],
      "metadata": {
        "id": "kvbQS83xNvef"
      }
    },
    {
      "cell_type": "code",
      "source": [
        "# Calculamos las imagen\n",
        "y=np.cbrt(x)+np.floor(x/5)\n",
        "\n",
        "# Creamos los gráficos mediante subplots.\n",
        "\n",
        "plt.plot(x,y, '.', label='f(x)')\n",
        "\n",
        "# Limitamos el rango de x al rango de x\n",
        "plt.xlim(-30,30)\n",
        "\n",
        "# Ejecutamos el comando para que muestre la grilla\n",
        "plt.grid()\n",
        "\n",
        "# Etiquetamos el eje x y eje y\n",
        "plt.xlabel('eje x')\n",
        "plt.ylabel('eje y')\n",
        "\n",
        "# Colocamos un título.\n",
        "plt.title('np.cbrt(x) + np.floor(x/5)')\n",
        "\n",
        "plt.legend() # Comando para que muestre las etiquetas.\n",
        "\n",
        "plt.show()\n"
      ],
      "metadata": {
        "colab": {
          "base_uri": "https://localhost:8080/",
          "height": 472
        },
        "id": "thxQNtPdNooO",
        "outputId": "3c54f6d6-bc9b-4801-fd13-66bccec4236f"
      },
      "execution_count": 22,
      "outputs": [
        {
          "output_type": "display_data",
          "data": {
            "text/plain": [
              "<Figure size 640x480 with 1 Axes>"
            ],
            "image/png": "[encoded data removed]"
          },
          "metadata": {}
        }
      ]
    },
    {
      "cell_type": "markdown",
      "source": [
        "2. b) Demostrar por definición la continuidad o discontinuidad de $f$ según corresponda en los puntos $x_0 = 5$ y en $x_0 = 6$. Hacerlo calculando el límite o los límites laterales."
      ],
      "metadata": {
        "id": "f42OJkNgQUia"
      }
    },
    {
      "cell_type": "code",
      "source": [
        "x=4.99\n",
        "np.floor(x/5)"
      ],
      "metadata": {
        "colab": {
          "base_uri": "https://localhost:8080/"
        },
        "id": "n6kMZhVyQevC",
        "outputId": "15441b13-46cb-40cf-d450-2b06301e519e"
      },
      "execution_count": 23,
      "outputs": [
        {
          "output_type": "execute_result",
          "data": {
            "text/plain": [
              "0.0"
            ]
          },
          "metadata": {},
          "execution_count": 23
        }
      ]
    },
    {
      "cell_type": "markdown",
      "source": [
        "Analizamos continuidad de $f(x)$ para los puntos citatos, se analizarán los límites por izquierda y por derecha.\\\n",
        "\n",
        "Primer caso. $x_0=5$.\\\n",
        "Comenzamos analizando su límite por izquierda.\n",
        "\\begin{aligned}\n",
        "\\lim_{{x \\to 5^-}}f(x) &= \\lim_{{x \\to 5^-}}x^\\frac{1}{3} + \\left\\lfloor\\frac{x}{5}\\right\\rfloor\\\\\n",
        "\\lim_{{x \\to 5^-}}f(x) &= \\lim_{{x \\to 5^-}}\\sqrt[3]{5^-} + \\left\\lfloor1^-\\right\\rfloor\\\\\n",
        "\\end{aligned}\n",
        "Como el argumento de la función piso se acerca a uno por izquierda pero nunca va a ser $1$, por definición el resultado de la misma será $0$.\n",
        "\\begin{aligned}\n",
        "\\lim_{{x \\to 5^-}}f(x) &= \\sqrt[3]{5}+0=\\sqrt[3]{5}\\\\\n",
        "\\lim_{{x \\to 5^-}}f(x) &= \\sqrt[3]{5}\n",
        "\\end{aligned}\\\n",
        "Continuamos analizando su límite por derecha.\n",
        "\\begin{aligned}\n",
        "\\lim_{{x \\to 5^+}}f(x) &= \\lim_{{x \\to 5^+}}x^\\frac{1}{3} + \\left\\lfloor\\frac{x}{5}\\right\\rfloor\\\\\n",
        "\\lim_{{x \\to 5^+}}f(x) &= \\lim_{{x \\to 5^+}}\\sqrt[3]{5^+} + \\left\\lfloor1^+\\right\\rfloor\\\\\n",
        "\\end{aligned}\n",
        "Como el argumento de la función piso se acerca a uno por derecha pero nunca va a ser $1$, por definición el resultado de la misma será $1$.\n",
        "\\begin{aligned}\n",
        "\\lim_{{x \\to 5^+}}f(x) &= \\sqrt[3]{5}+1=\\sqrt[3]{5}+1\\\\\n",
        "\\lim_{{x \\to 5^+}}f(x) &= \\sqrt[3]{5}+1\n",
        "\\end{aligned}\n",
        "Entonces como la condicion de continuidad:\n",
        "\\begin{aligned}\n",
        "\\lim_{{x \\to 5^-}}f(x) &= \\lim_{{x \\to 5^+}}f(x)\\\\\n",
        "\\sqrt[3]{5} &\\neq \\sqrt[3]{5}+1\n",
        "\\end{aligned}\\\n",
        "No se cumple, decimos que $f(x)$ no es continua en $x_0=5$."
      ],
      "metadata": {
        "id": "7IhyM9eSQ4ke"
      }
    },
    {
      "cell_type": "markdown",
      "source": [
        "Segundo caso. $x_0=6$.\\\n",
        "Comenzamos analizando su límite por izquierda.\n",
        "\\begin{aligned}\n",
        "\\lim_{{x \\to 6^-}}f(x) &= \\lim_{{x \\to 6^-}}x^\\frac{1}{3} + \\left\\lfloor\\frac{x}{5}\\right\\rfloor\\\\\n",
        "\\lim_{{x \\to 6^-}}f(x) &= \\lim_{{x \\to 6^-}}\\sqrt[3]{6^-} + \\left\\lfloor\\frac{6^-}{5}\\right\\rfloor\\\\\n",
        "\\end{aligned}\n",
        "Como el argumento de la función piso se acerca $\\left\\lfloor\\frac{6^-}{5}\\right\\rfloor\\ $por izquierda sabemos que el cociente dará como resultado algo que se encuentra entre 1 y 2, por definición el resultado de la misma será $1$.\n",
        "\\begin{aligned}\n",
        "\\lim_{{x \\to 6^-}}f(x) &= \\sqrt[3]{6}+1=\\sqrt[3]{6}+1\\\\\n",
        "\\lim_{{x \\to 6^-}}f(x) &= \\sqrt[3]{6}+1\n",
        "\\end{aligned}\\\n",
        "Continuamos analizando su límite por derecha.\n",
        "\\begin{aligned}\n",
        "\\lim_{{x \\to 6^+}}f(x) &= \\lim_{{x \\to 6^+}}x^\\frac{1}{3} + \\left\\lfloor\\frac{x}{5}\\right\\rfloor\\\\\n",
        "\\lim_{{x \\to 6^+}}f(x) &= \\lim_{{x \\to 6^+}}\\sqrt[3]{6^+} + \\left\\lfloor\\frac{6^+}{5}\\right\\rfloor\\\\\n",
        "\\end{aligned}\n",
        "Como el argumento de la función piso se acerca a $\\left\\lfloor\\frac{6^+}{5}\\right\\rfloor\\ $por derecha sabemos que el cociente dará como resultado algo que se encuentra entre 1 y 2, por definición el resultado de la misma será $1$.\n",
        "\\begin{aligned}\n",
        "\\lim_{{x \\to 6^+}}f(x) &= \\sqrt[3]{6}+1=\\sqrt[3]{6}+1\\\\\n",
        "\\lim_{{x \\to 6^+}}f(x) &= \\sqrt[3]{6}+1\n",
        "\\end{aligned}\n",
        "Entonces como la condicion de continuidad:\n",
        "\\begin{aligned}\n",
        "\\lim_{{x \\to 6^-}}f(x) &= \\lim_{{x \\to 6^+}}f(x)\\\\\n",
        "\\sqrt[3]{6}+1 &= \\sqrt[3]{6}+1\n",
        "\\end{aligned}\\\n",
        "Se cumple, decimos que $f(x)$ es continua en $x_0=6$."
      ],
      "metadata": {
        "id": "yP8Qt7Hodavf"
      }
    }
  ]
}