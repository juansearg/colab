{
 "cells": [
  {
   "cell_type": "code",
   "execution_count": 1,
   "id": "1e347ca6-ba3e-4a06-8303-2730a9a23ec1",
   "metadata": {},
   "outputs": [],
   "source": [
    "import pandas as pd\n",
    "import matplotlib.pyplot as plt\n",
    "import numpy as np"
   ]
  },
  {
   "cell_type": "code",
   "execution_count": 2,
   "id": "e542bbe0-e499-465b-bbc9-42ecc30b8262",
   "metadata": {},
   "outputs": [],
   "source": [
    "workbook = pd.read_excel(r'C:\\Users\\juan.carrizo\\Desktop\\planes\\semanal\\plan semanal SIMAF - TOTAL 03-01-2023 prep_.xlsx', sheet_name=None)"
   ]
  },
  {
   "cell_type": "code",
   "execution_count": 3,
   "id": "f695425c-2d93-43e6-86e6-6fe28eaa6a3e",
   "metadata": {},
   "outputs": [
    {
     "data": {
      "text/plain": [
       "dict_keys(['Sheet1'])"
      ]
     },
     "execution_count": 3,
     "metadata": {},
     "output_type": "execute_result"
    }
   ],
   "source": [
    "workbook.keys()"
   ]
  },
  {
   "cell_type": "code",
   "execution_count": 4,
   "id": "16a36e5e-c622-4470-b1c3-7d676acf8e25",
   "metadata": {},
   "outputs": [],
   "source": [
    "plan = workbook['Sheet1']"
   ]
  },
  {
   "cell_type": "code",
   "execution_count": 5,
   "id": "09e74e14-084b-4d6c-bcc5-3d3d9196b19f",
   "metadata": {},
   "outputs": [
    {
     "data": {
      "text/plain": [
       "(5098, 59)"
      ]
     },
     "execution_count": 5,
     "metadata": {},
     "output_type": "execute_result"
    }
   ],
   "source": [
    "plan.shape\n"
   ]
  },
  {
   "cell_type": "code",
   "execution_count": 6,
   "id": "c9a57c9c-c4aa-427a-a148-59cfc6502de1",
   "metadata": {},
   "outputs": [
    {
     "data": {
      "text/plain": [
       "<bound method NDFrame.describe of       Unnamed: 0                        Sector                             CG  \\\n",
       "0              1  SE - BASE PLAZA CONSTITUCION  ABRIGOS / ARMARIOS / BUNGALOW   \n",
       "1              2  SE - BASE PLAZA CONSTITUCION  ABRIGOS / ARMARIOS / BUNGALOW   \n",
       "2              3  SE - BASE PLAZA CONSTITUCION  ABRIGOS / ARMARIOS / BUNGALOW   \n",
       "3              4  SE - BASE PLAZA CONSTITUCION  ABRIGOS / ARMARIOS / BUNGALOW   \n",
       "4              5  SE - BASE PLAZA CONSTITUCION  ABRIGOS / ARMARIOS / BUNGALOW   \n",
       "...          ...                           ...                            ...   \n",
       "5093        5094               SE - LD PINAMAR    PASO A NIVEL - FONOLUMINOSO   \n",
       "5094        5095               SE - LD PINAMAR    PASO A NIVEL - FONOLUMINOSO   \n",
       "5095        5096               SE - LD PINAMAR    SEÑALES - MECANICAS - BRAZO   \n",
       "5096        5097               SE - LD PINAMAR    SEÑALES - MECANICAS - BRAZO   \n",
       "5097        5098               SE - LD PINAMAR    SEÑALES - MECANICAS - BRAZO   \n",
       "\n",
       "               UMP   um_id                            um_nombre columna_1  \\\n",
       "0     Sin UM Padre   84284                       ALL - A/A/B C2       NaN   \n",
       "1     Sin UM Padre   84285                     ALL - A/A/B C11D       NaN   \n",
       "2     Sin UM Padre   84286                     ALL - A/A/B C13D       NaN   \n",
       "3     Sin UM Padre   84287                       ALL - A/A/B C1       NaN   \n",
       "4     Sin UM Padre   84288                      ALL - A/A/B C31       NaN   \n",
       "...            ...     ...                                  ...       ...   \n",
       "5093  Sin UM Padre   89291  DPN - PAN FL RUTA 74 PINAMAR 09,220       NaN   \n",
       "5094  Sin UM Padre   89292  GUI - PAN FL RUTA 2 PINAMAR 245,599       NaN   \n",
       "5095  Sin UM Padre  115479         GM - SM B ENTRADA LADO GUIDO       NaN   \n",
       "5096  Sin UM Padre  115480       GM - SM B ENTRADA LADO PINAMAR       NaN   \n",
       "5097  Sin UM Padre  115481        DPN - SM B ENTRADA LADO GUIDO       NaN   \n",
       "\n",
       "     columna_2 columna_3 columna_4  ... columna_44 columna_45 columna_46  \\\n",
       "0          NaN       NaN       NaN  ...        NaN        NaN        NaN   \n",
       "1          NaN       NaN       NaN  ...        NaN        NaN        NaN   \n",
       "2          NaN       NaN       NaN  ...        NaN        NaN        NaN   \n",
       "3          NaN       NaN       NaN  ...        NaN        NaN        NaN   \n",
       "4          NaN       NaN       NaN  ...        NaN        NaN        NaN   \n",
       "...        ...       ...       ...  ...        ...        ...        ...   \n",
       "5093        PE       NaN        LI  ...        NaN         PE        NaN   \n",
       "5094        PE       NaN        LI  ...        NaN         PE        NaN   \n",
       "5095        PE       NaN        LI  ...        NaN         PE        NaN   \n",
       "5096        PE       NaN        LI  ...        NaN         PE        NaN   \n",
       "5097        PE       NaN        LI  ...        NaN         PE        NaN   \n",
       "\n",
       "     columna_47 columna_48 columna_49 columna_50 columna_51 columna_52  \\\n",
       "0           NaN        NaN        NaN        NaN        NaN        NaN   \n",
       "1           NaN        NaN        NaN        NaN        NaN        NaN   \n",
       "2           NaN        NaN        NaN        NaN        NaN        NaN   \n",
       "3           NaN        NaN        NaN        NaN        NaN        NaN   \n",
       "4           NaN        NaN        NaN        NaN        NaN        NaN   \n",
       "...         ...        ...        ...        ...        ...        ...   \n",
       "5093         LI        NaN         PE        NaN         LI        NaN   \n",
       "5094         LI        NaN         PE        NaN         LI        NaN   \n",
       "5095         LI        NaN         PE        NaN         LI        NaN   \n",
       "5096         LI        NaN         PE        NaN         LI        NaN   \n",
       "5097         LI        NaN         PE        NaN         LI        NaN   \n",
       "\n",
       "     observacion  \n",
       "0            NaN  \n",
       "1            NaN  \n",
       "2            NaN  \n",
       "3            NaN  \n",
       "4            NaN  \n",
       "...          ...  \n",
       "5093         NaN  \n",
       "5094         NaN  \n",
       "5095         NaN  \n",
       "5096         NaN  \n",
       "5097         NaN  \n",
       "\n",
       "[5098 rows x 59 columns]>"
      ]
     },
     "execution_count": 6,
     "metadata": {},
     "output_type": "execute_result"
    }
   ],
   "source": [
    "plan.describe"
   ]
  },
  {
   "cell_type": "code",
   "execution_count": 7,
   "id": "06f5cd31-ccaa-4659-b221-3f8fd1b9fbe1",
   "metadata": {},
   "outputs": [],
   "source": [
    "workbook2 = pd.read_excel(r\"D:\\DOCUMENTOS\\DESARROLLO\\CUMPLIMIENTO\\TABLA-SEMANAS.xlsx\", sheet_name=None)"
   ]
  },
  {
   "cell_type": "code",
   "execution_count": 8,
   "id": "3d468720-79a6-45d9-be55-870d37af3903",
   "metadata": {},
   "outputs": [
    {
     "data": {
      "text/plain": [
       "dict_keys(['Hoja1'])"
      ]
     },
     "execution_count": 8,
     "metadata": {},
     "output_type": "execute_result"
    }
   ],
   "source": [
    "workbook2.keys()"
   ]
  },
  {
   "cell_type": "code",
   "execution_count": 9,
   "id": "d83f42e2-a0f9-465a-8f21-bb505b8db229",
   "metadata": {},
   "outputs": [],
   "source": [
    "tabla_semanas = workbook2['Hoja1']"
   ]
  },
  {
   "cell_type": "code",
   "execution_count": 10,
   "id": "d082e923-f7df-43d2-a874-a3aa083e8cd7",
   "metadata": {},
   "outputs": [
    {
     "data": {
      "text/plain": [
       "Index(['mes', 'inicio', 'fin', 'semana'], dtype='object')"
      ]
     },
     "execution_count": 10,
     "metadata": {},
     "output_type": "execute_result"
    }
   ],
   "source": [
    "tabla_semanas.keys()"
   ]
  },
  {
   "cell_type": "markdown",
   "id": "3f0c2250-2ea5-4a62-bd38-bd8d67183086",
   "metadata": {},
   "source": [
    "<h1>COLOCAR RUTA DE CRUDO</h1>"
   ]
  },
  {
   "cell_type": "code",
   "execution_count": 11,
   "id": "64493429-c652-4374-bba5-6a6e9bf1b38f",
   "metadata": {
    "tags": []
   },
   "outputs": [],
   "source": [
    "ruta_crudo= r\"I:\\Operaciones\\Infraestructura\\2 - Remedios de Escalada\\P&C\\_Estadística\\01 PMA\\2023\\PMA 2023 - 02 FEBRERO\\_Avances parciales\\09-03-23\\crudo SIMAF - TOTAL limpio 09-03-2023.xlsx\""
   ]
  },
  {
   "cell_type": "code",
   "execution_count": 12,
   "id": "6ff8e920-1e4e-411e-b536-b2df95b12359",
   "metadata": {
    "tags": []
   },
   "outputs": [],
   "source": [
    "workbook3 = pd.read_excel(ruta_crudo, sheet_name=None)"
   ]
  },
  {
   "cell_type": "code",
   "execution_count": 13,
   "id": "1ab2bcfb-19e8-4b5d-a90f-b91d31528461",
   "metadata": {
    "tags": []
   },
   "outputs": [
    {
     "data": {
      "text/plain": [
       "dict_keys(['Sheet1'])"
      ]
     },
     "execution_count": 13,
     "metadata": {},
     "output_type": "execute_result"
    }
   ],
   "source": [
    "workbook3.keys()"
   ]
  },
  {
   "cell_type": "code",
   "execution_count": 14,
   "id": "5e15af91-8376-44a2-b4ad-c42107c2a722",
   "metadata": {
    "tags": []
   },
   "outputs": [],
   "source": [
    "crudo = workbook3['Sheet1']"
   ]
  },
  {
   "cell_type": "code",
   "execution_count": 15,
   "id": "6aa07eb5-1107-4859-857e-834c34fde054",
   "metadata": {
    "tags": []
   },
   "outputs": [
    {
     "data": {
      "text/html": [
       "<div>\n",
       "<style scoped>\n",
       "    .dataframe tbody tr th:only-of-type {\n",
       "        vertical-align: middle;\n",
       "    }\n",
       "\n",
       "    .dataframe tbody tr th {\n",
       "        vertical-align: top;\n",
       "    }\n",
       "\n",
       "    .dataframe thead th {\n",
       "        text-align: right;\n",
       "    }\n",
       "</style>\n",
       "<table border=\"1\" class=\"dataframe\">\n",
       "  <thead>\n",
       "    <tr style=\"text-align: right;\">\n",
       "      <th></th>\n",
       "      <th>Unnamed: 0</th>\n",
       "      <th>orden_nro</th>\n",
       "      <th>Progresiva_Desde</th>\n",
       "      <th>Progresiva_Hasta</th>\n",
       "      <th>tiempo</th>\n",
       "      <th>sector_id</th>\n",
       "    </tr>\n",
       "  </thead>\n",
       "  <tbody>\n",
       "    <tr>\n",
       "      <th>count</th>\n",
       "      <td>7973.000000</td>\n",
       "      <td>7973.000000</td>\n",
       "      <td>3578.000000</td>\n",
       "      <td>3578.000000</td>\n",
       "      <td>7973.000000</td>\n",
       "      <td>7973.000000</td>\n",
       "    </tr>\n",
       "    <tr>\n",
       "      <th>mean</th>\n",
       "      <td>3986.000000</td>\n",
       "      <td>35380.108115</td>\n",
       "      <td>1.189869</td>\n",
       "      <td>1.770883</td>\n",
       "      <td>549.210460</td>\n",
       "      <td>341.291860</td>\n",
       "    </tr>\n",
       "    <tr>\n",
       "      <th>std</th>\n",
       "      <td>2301.751181</td>\n",
       "      <td>29198.771831</td>\n",
       "      <td>5.622565</td>\n",
       "      <td>7.735460</td>\n",
       "      <td>1040.580103</td>\n",
       "      <td>11.475982</td>\n",
       "    </tr>\n",
       "    <tr>\n",
       "      <th>min</th>\n",
       "      <td>0.000000</td>\n",
       "      <td>9.000000</td>\n",
       "      <td>0.000000</td>\n",
       "      <td>0.000000</td>\n",
       "      <td>0.000000</td>\n",
       "      <td>321.000000</td>\n",
       "    </tr>\n",
       "    <tr>\n",
       "      <th>25%</th>\n",
       "      <td>1993.000000</td>\n",
       "      <td>3010.000000</td>\n",
       "      <td>0.000000</td>\n",
       "      <td>0.000000</td>\n",
       "      <td>0.000000</td>\n",
       "      <td>334.000000</td>\n",
       "    </tr>\n",
       "    <tr>\n",
       "      <th>50%</th>\n",
       "      <td>3986.000000</td>\n",
       "      <td>60628.000000</td>\n",
       "      <td>0.000000</td>\n",
       "      <td>0.000000</td>\n",
       "      <td>480.000000</td>\n",
       "      <td>341.000000</td>\n",
       "    </tr>\n",
       "    <tr>\n",
       "      <th>75%</th>\n",
       "      <td>5979.000000</td>\n",
       "      <td>61824.000000</td>\n",
       "      <td>0.000000</td>\n",
       "      <td>0.000000</td>\n",
       "      <td>740.000000</td>\n",
       "      <td>342.000000</td>\n",
       "    </tr>\n",
       "    <tr>\n",
       "      <th>max</th>\n",
       "      <td>7972.000000</td>\n",
       "      <td>62523.000000</td>\n",
       "      <td>52.000000</td>\n",
       "      <td>52.606000</td>\n",
       "      <td>35712.000000</td>\n",
       "      <td>373.000000</td>\n",
       "    </tr>\n",
       "  </tbody>\n",
       "</table>\n",
       "</div>"
      ],
      "text/plain": [
       "        Unnamed: 0     orden_nro  Progresiva_Desde  Progresiva_Hasta  \\\n",
       "count  7973.000000   7973.000000       3578.000000       3578.000000   \n",
       "mean   3986.000000  35380.108115          1.189869          1.770883   \n",
       "std    2301.751181  29198.771831          5.622565          7.735460   \n",
       "min       0.000000      9.000000          0.000000          0.000000   \n",
       "25%    1993.000000   3010.000000          0.000000          0.000000   \n",
       "50%    3986.000000  60628.000000          0.000000          0.000000   \n",
       "75%    5979.000000  61824.000000          0.000000          0.000000   \n",
       "max    7972.000000  62523.000000         52.000000         52.606000   \n",
       "\n",
       "             tiempo    sector_id  \n",
       "count   7973.000000  7973.000000  \n",
       "mean     549.210460   341.291860  \n",
       "std     1040.580103    11.475982  \n",
       "min        0.000000   321.000000  \n",
       "25%        0.000000   334.000000  \n",
       "50%      480.000000   341.000000  \n",
       "75%      740.000000   342.000000  \n",
       "max    35712.000000   373.000000  "
      ]
     },
     "execution_count": 15,
     "metadata": {},
     "output_type": "execute_result"
    }
   ],
   "source": [
    "crudo.describe()"
   ]
  },
  {
   "cell_type": "code",
   "execution_count": 16,
   "id": "dec9ebd0-e25b-4bc7-8d09-4ec11d6f3c56",
   "metadata": {
    "tags": []
   },
   "outputs": [
    {
     "data": {
      "text/plain": [
       "Index(['Unnamed: 0', 'um', 'linea', 'area', 'sector', 'orden_nro',\n",
       "       'fecha_inicio', 'fecha_cierre', 'fecha_cumplimiento', 'cg', 'Tipo',\n",
       "       'TipoOT', 'EstadoOT', 'Progresiva_Desde', 'Progresiva_Hasta', 'trabajo',\n",
       "       'tiempo', 'realizado', 'observaciones', 'sector_id', 'sec+OT'],\n",
       "      dtype='object')"
      ]
     },
     "execution_count": 16,
     "metadata": {},
     "output_type": "execute_result"
    }
   ],
   "source": [
    "crudo.keys()"
   ]
  },
  {
   "cell_type": "code",
   "execution_count": 17,
   "id": "5bc4daae-0d50-4810-a8f0-e3c54ac62092",
   "metadata": {
    "tags": []
   },
   "outputs": [],
   "source": [
    "crudo.rename( columns={'um':'um_nombre','sector':'Sector', 'cg' : 'CG' }, inplace=True)"
   ]
  },
  {
   "cell_type": "code",
   "execution_count": 18,
   "id": "30862ac1-5606-48a7-802c-5b7b0688c64d",
   "metadata": {},
   "outputs": [
    {
     "data": {
      "text/plain": [
       "Index(['Unnamed: 0', 'um_nombre', 'linea', 'area', 'Sector', 'orden_nro',\n",
       "       'fecha_inicio', 'fecha_cierre', 'fecha_cumplimiento', 'CG', 'Tipo',\n",
       "       'TipoOT', 'EstadoOT', 'Progresiva_Desde', 'Progresiva_Hasta', 'trabajo',\n",
       "       'tiempo', 'realizado', 'observaciones', 'sector_id', 'sec+OT'],\n",
       "      dtype='object')"
      ]
     },
     "execution_count": 18,
     "metadata": {},
     "output_type": "execute_result"
    }
   ],
   "source": [
    "crudo.keys()\n"
   ]
  },
  {
   "cell_type": "code",
   "execution_count": 19,
   "id": "6fdc0759-a41f-4ebf-85c0-e20bf41f88ee",
   "metadata": {
    "tags": []
   },
   "outputs": [],
   "source": [
    "crudo['mes'] = crudo['fecha_cumplimiento'].dt.month\n",
    "crudo = crudo.sort_values(by='fecha_cumplimiento')\n",
    "tabla_semanas.rename( columns={'inicio':'fecha_cumplimiento'}, inplace=True)\n",
    "crudo = pd.merge(crudo , tabla_semanas.reindex(columns=['fecha_cumplimiento','semana']),on='fecha_cumplimiento', how='left')\n",
    "crudo['semana'] = crudo['semana'].fillna(method=\"ffill\")"
   ]
  },
  {
   "cell_type": "code",
   "execution_count": 20,
   "id": "e63a6812-01a6-45a7-ab5e-cec33dc534ce",
   "metadata": {
    "tags": []
   },
   "outputs": [],
   "source": [
    "crudo.loc[crudo.trabajo.str.contains('MANTENIMIENTO'),'TipoOT'] = 'Preventiva'\n",
    "crudo.loc[crudo.trabajo.str.contains('CORRECTIVO'),'TipoOT'] = 'Correctiva'\n",
    "crudo['ABR']=np.nan\n",
    "crudo.loc[crudo.trabajo.str.contains('LIVIANO'),'ABR'] = 'LI'\n",
    "crudo.loc[crudo.trabajo.str.contains('LIVIANA'),'ABR'] = 'LI'\n",
    "crudo.loc[crudo.trabajo.str.contains('INTERMEDIA'),'ABR'] = 'IN'\n",
    "crudo.loc[crudo.trabajo.str.contains('INTERMEDIO'),'ABR'] = 'IN'\n",
    "crudo.loc[crudo.trabajo.str.contains('PESADA'),'ABR'] = 'PE'\n",
    "crudo.loc[crudo.trabajo.str.contains('PESADO'),'ABR'] = 'PE'\n",
    "crudo.loc[crudo.trabajo.str.contains('REVISION Y REGISTRO'),'ABR'] = 'RR'\n",
    "crudo.loc[crudo.trabajo.str.contains('REVISION A'),'ABR'] = 'A'\n",
    "crudo.loc[crudo.trabajo.str.contains('REVISION B'),'ABR'] = 'B'\n",
    "crudo.loc[crudo.trabajo.str.contains('REVISION C'),'ABR'] = 'C'\n",
    "crudo.loc[crudo.trabajo.str.contains('ROTURA PALOS DE BARRERA'),'ABR'] = 'PR'\n",
    "crudo.loc[crudo.trabajo.str.contains('VERIFICACION DE SERVICIOS DE TERCEROS'),'ABR'] = 'VT'\n"
   ]
  },
  {
   "cell_type": "code",
   "execution_count": 21,
   "id": "695cd1a0-58b2-4895-8aa8-58a6d5e38bdf",
   "metadata": {
    "tags": []
   },
   "outputs": [
    {
     "data": {
      "text/html": [
       "<div>\n",
       "<style scoped>\n",
       "    .dataframe tbody tr th:only-of-type {\n",
       "        vertical-align: middle;\n",
       "    }\n",
       "\n",
       "    .dataframe tbody tr th {\n",
       "        vertical-align: top;\n",
       "    }\n",
       "\n",
       "    .dataframe thead th {\n",
       "        text-align: right;\n",
       "    }\n",
       "</style>\n",
       "<table border=\"1\" class=\"dataframe\">\n",
       "  <thead>\n",
       "    <tr style=\"text-align: right;\">\n",
       "      <th></th>\n",
       "      <th>Unnamed: 0</th>\n",
       "      <th>um_nombre</th>\n",
       "      <th>linea</th>\n",
       "      <th>area</th>\n",
       "      <th>Sector</th>\n",
       "      <th>orden_nro</th>\n",
       "      <th>fecha_inicio</th>\n",
       "      <th>fecha_cierre</th>\n",
       "      <th>fecha_cumplimiento</th>\n",
       "      <th>CG</th>\n",
       "      <th>...</th>\n",
       "      <th>Progresiva_Hasta</th>\n",
       "      <th>trabajo</th>\n",
       "      <th>tiempo</th>\n",
       "      <th>realizado</th>\n",
       "      <th>observaciones</th>\n",
       "      <th>sector_id</th>\n",
       "      <th>sec+OT</th>\n",
       "      <th>mes</th>\n",
       "      <th>semana</th>\n",
       "      <th>ABR</th>\n",
       "    </tr>\n",
       "  </thead>\n",
       "  <tbody>\n",
       "    <tr>\n",
       "      <th>0</th>\n",
       "      <td>0</td>\n",
       "      <td>WL - TEL/MAG - WILDE - MAGNETO CABINA CON DOMI...</td>\n",
       "      <td>Roca</td>\n",
       "      <td>Telecomunicaciones</td>\n",
       "      <td>TE - BASE QUILMES</td>\n",
       "      <td>60192</td>\n",
       "      <td>2023-01-30 00:00:00</td>\n",
       "      <td>NaT</td>\n",
       "      <td>2023-01-30</td>\n",
       "      <td>COMUNICACIONES EN CABINAS TELEFONOS MAGNETOS</td>\n",
       "      <td>...</td>\n",
       "      <td>NaN</td>\n",
       "      <td>MANTENIMIENTO LIVIANO</td>\n",
       "      <td>80</td>\n",
       "      <td>SI</td>\n",
       "      <td>NaN</td>\n",
       "      <td>345</td>\n",
       "      <td>345-60192</td>\n",
       "      <td>1</td>\n",
       "      <td>5.0</td>\n",
       "      <td>LI</td>\n",
       "    </tr>\n",
       "    <tr>\n",
       "      <th>1</th>\n",
       "      <td>123</td>\n",
       "      <td>QL - PP FL ALSINA</td>\n",
       "      <td>Roca</td>\n",
       "      <td>Señalamiento</td>\n",
       "      <td>SE - BASE QUILMES</td>\n",
       "      <td>10120</td>\n",
       "      <td>2023-02-03 10:01:14</td>\n",
       "      <td>2023-03-04 07:41:57</td>\n",
       "      <td>2023-01-30</td>\n",
       "      <td>PASO PEATONAL - FONOLUMINOSO</td>\n",
       "      <td>...</td>\n",
       "      <td>0.0</td>\n",
       "      <td>MANTENIMIENTO LIVIANO</td>\n",
       "      <td>300</td>\n",
       "      <td>SI</td>\n",
       "      <td>NaN</td>\n",
       "      <td>341</td>\n",
       "      <td>341-10120</td>\n",
       "      <td>1</td>\n",
       "      <td>5.0</td>\n",
       "      <td>LI</td>\n",
       "    </tr>\n",
       "    <tr>\n",
       "      <th>2</th>\n",
       "      <td>124</td>\n",
       "      <td>QL - PAN S40/S60 CONESA</td>\n",
       "      <td>Roca</td>\n",
       "      <td>Señalamiento</td>\n",
       "      <td>SE - BASE QUILMES</td>\n",
       "      <td>10121</td>\n",
       "      <td>2023-02-03 10:22:15</td>\n",
       "      <td>2023-03-04 07:42:30</td>\n",
       "      <td>2023-01-30</td>\n",
       "      <td>PASO A NIVEL - B AUTOMATICA / MANUAL ELECTRICA...</td>\n",
       "      <td>...</td>\n",
       "      <td>0.0</td>\n",
       "      <td>MANTENIMIENTO LIVIANO</td>\n",
       "      <td>0</td>\n",
       "      <td>SI</td>\n",
       "      <td>NaN</td>\n",
       "      <td>341</td>\n",
       "      <td>341-10121</td>\n",
       "      <td>1</td>\n",
       "      <td>5.0</td>\n",
       "      <td>LI</td>\n",
       "    </tr>\n",
       "    <tr>\n",
       "      <th>3</th>\n",
       "      <td>125</td>\n",
       "      <td>BQ - SE S/D 2P2 ASC</td>\n",
       "      <td>Roca</td>\n",
       "      <td>Señalamiento</td>\n",
       "      <td>SE - BASE QUILMES</td>\n",
       "      <td>10038</td>\n",
       "      <td>2023-01-31 07:20:56</td>\n",
       "      <td>2023-01-31 07:24:54</td>\n",
       "      <td>2023-01-30</td>\n",
       "      <td>SEÑALES - ELECTRICAS - SEMAFORO / DISCO</td>\n",
       "      <td>...</td>\n",
       "      <td>0.0</td>\n",
       "      <td>CORRECTIVO LIVIANO</td>\n",
       "      <td>100</td>\n",
       "      <td>SI</td>\n",
       "      <td>NaN</td>\n",
       "      <td>341</td>\n",
       "      <td>341-10038</td>\n",
       "      <td>1</td>\n",
       "      <td>5.0</td>\n",
       "      <td>LI</td>\n",
       "    </tr>\n",
       "    <tr>\n",
       "      <th>4</th>\n",
       "      <td>126</td>\n",
       "      <td>BN - C/MP CABINA BERNAL</td>\n",
       "      <td>Roca</td>\n",
       "      <td>Señalamiento</td>\n",
       "      <td>SE - BASE QUILMES</td>\n",
       "      <td>10123</td>\n",
       "      <td>2023-02-03 11:25:05</td>\n",
       "      <td>2023-03-04 07:42:40</td>\n",
       "      <td>2023-01-30</td>\n",
       "      <td>CABINA / MARCO DE PALANCA - MECANICA</td>\n",
       "      <td>...</td>\n",
       "      <td>0.0</td>\n",
       "      <td>MANTENIMIENTO LIVIANO</td>\n",
       "      <td>480</td>\n",
       "      <td>SI</td>\n",
       "      <td>NaN</td>\n",
       "      <td>341</td>\n",
       "      <td>341-10123</td>\n",
       "      <td>1</td>\n",
       "      <td>5.0</td>\n",
       "      <td>LI</td>\n",
       "    </tr>\n",
       "  </tbody>\n",
       "</table>\n",
       "<p>5 rows × 24 columns</p>\n",
       "</div>"
      ],
      "text/plain": [
       "   Unnamed: 0                                          um_nombre linea  \\\n",
       "0           0  WL - TEL/MAG - WILDE - MAGNETO CABINA CON DOMI...  Roca   \n",
       "1         123                                  QL - PP FL ALSINA  Roca   \n",
       "2         124                            QL - PAN S40/S60 CONESA  Roca   \n",
       "3         125                                BQ - SE S/D 2P2 ASC  Roca   \n",
       "4         126                            BN - C/MP CABINA BERNAL  Roca   \n",
       "\n",
       "                 area             Sector  orden_nro        fecha_inicio  \\\n",
       "0  Telecomunicaciones  TE - BASE QUILMES      60192 2023-01-30 00:00:00   \n",
       "1        Señalamiento  SE - BASE QUILMES      10120 2023-02-03 10:01:14   \n",
       "2        Señalamiento  SE - BASE QUILMES      10121 2023-02-03 10:22:15   \n",
       "3        Señalamiento  SE - BASE QUILMES      10038 2023-01-31 07:20:56   \n",
       "4        Señalamiento  SE - BASE QUILMES      10123 2023-02-03 11:25:05   \n",
       "\n",
       "         fecha_cierre fecha_cumplimiento  \\\n",
       "0                 NaT         2023-01-30   \n",
       "1 2023-03-04 07:41:57         2023-01-30   \n",
       "2 2023-03-04 07:42:30         2023-01-30   \n",
       "3 2023-01-31 07:24:54         2023-01-30   \n",
       "4 2023-03-04 07:42:40         2023-01-30   \n",
       "\n",
       "                                                  CG  ... Progresiva_Hasta  \\\n",
       "0       COMUNICACIONES EN CABINAS TELEFONOS MAGNETOS  ...              NaN   \n",
       "1                       PASO PEATONAL - FONOLUMINOSO  ...              0.0   \n",
       "2  PASO A NIVEL - B AUTOMATICA / MANUAL ELECTRICA...  ...              0.0   \n",
       "3            SEÑALES - ELECTRICAS - SEMAFORO / DISCO  ...              0.0   \n",
       "4               CABINA / MARCO DE PALANCA - MECANICA  ...              0.0   \n",
       "\n",
       "                 trabajo tiempo  realizado  observaciones sector_id  \\\n",
       "0  MANTENIMIENTO LIVIANO     80         SI            NaN       345   \n",
       "1  MANTENIMIENTO LIVIANO    300         SI            NaN       341   \n",
       "2  MANTENIMIENTO LIVIANO      0         SI            NaN       341   \n",
       "3     CORRECTIVO LIVIANO    100         SI            NaN       341   \n",
       "4  MANTENIMIENTO LIVIANO    480         SI            NaN       341   \n",
       "\n",
       "      sec+OT mes semana  ABR  \n",
       "0  345-60192   1    5.0   LI  \n",
       "1  341-10120   1    5.0   LI  \n",
       "2  341-10121   1    5.0   LI  \n",
       "3  341-10038   1    5.0   LI  \n",
       "4  341-10123   1    5.0   LI  \n",
       "\n",
       "[5 rows x 24 columns]"
      ]
     },
     "execution_count": 21,
     "metadata": {},
     "output_type": "execute_result"
    }
   ],
   "source": [
    "crudo.head()"
   ]
  },
  {
   "cell_type": "code",
   "execution_count": 22,
   "id": "e15f059a-5f43-4cae-925d-597b061a1d98",
   "metadata": {
    "tags": []
   },
   "outputs": [],
   "source": [
    "crudo.to_excel(r'C:\\Users\\juan.carrizo\\Desktop\\crudo_utilizado_'+pd.to_datetime('today').strftime('%d-%m-%Y')+'.xlsx' )"
   ]
  },
  {
   "cell_type": "code",
   "execution_count": 23,
   "id": "2e7b98a0-50a0-4d23-a8e0-a1feb473224b",
   "metadata": {
    "tags": []
   },
   "outputs": [],
   "source": [
    "valoracion_trabajo = pd.DataFrame(data={'LI':[1] , 'IN':[2], 'PE':[3]})"
   ]
  },
  {
   "cell_type": "code",
   "execution_count": 24,
   "id": "2c29bc78-0887-4180-9b43-16950eed1f02",
   "metadata": {
    "tags": []
   },
   "outputs": [
    {
     "data": {
      "text/plain": [
       "1"
      ]
     },
     "execution_count": 24,
     "metadata": {},
     "output_type": "execute_result"
    }
   ],
   "source": [
    "valoracion_trabajo['LI'][0]"
   ]
  },
  {
   "cell_type": "code",
   "execution_count": 25,
   "id": "3ac8dacd-02bb-46e8-8c45-d1697b1220bf",
   "metadata": {
    "tags": []
   },
   "outputs": [
    {
     "data": {
      "text/html": [
       "<div>\n",
       "<style scoped>\n",
       "    .dataframe tbody tr th:only-of-type {\n",
       "        vertical-align: middle;\n",
       "    }\n",
       "\n",
       "    .dataframe tbody tr th {\n",
       "        vertical-align: top;\n",
       "    }\n",
       "\n",
       "    .dataframe thead th {\n",
       "        text-align: right;\n",
       "    }\n",
       "</style>\n",
       "<table border=\"1\" class=\"dataframe\">\n",
       "  <thead>\n",
       "    <tr style=\"text-align: right;\">\n",
       "      <th></th>\n",
       "      <th>LI</th>\n",
       "      <th>IN</th>\n",
       "      <th>PE</th>\n",
       "    </tr>\n",
       "  </thead>\n",
       "  <tbody>\n",
       "    <tr>\n",
       "      <th>0</th>\n",
       "      <td>1</td>\n",
       "      <td>2</td>\n",
       "      <td>3</td>\n",
       "    </tr>\n",
       "  </tbody>\n",
       "</table>\n",
       "</div>"
      ],
      "text/plain": [
       "   LI  IN  PE\n",
       "0   1   2   3"
      ]
     },
     "execution_count": 25,
     "metadata": {},
     "output_type": "execute_result"
    }
   ],
   "source": [
    "valoracion_trabajo"
   ]
  },
  {
   "cell_type": "markdown",
   "id": "eb9c2ca6-fb2e-4ea5-91d8-19478e6cdf33",
   "metadata": {},
   "source": [
    "<h1>COLOQUE NUMERO DE MES</h1>"
   ]
  },
  {
   "cell_type": "code",
   "execution_count": 26,
   "id": "d4b0a386-210c-4f9d-a9ad-8834b80ff10e",
   "metadata": {
    "tags": []
   },
   "outputs": [],
   "source": [
    "nmes = 2"
   ]
  },
  {
   "cell_type": "code",
   "execution_count": 27,
   "id": "76a5b710-d5d6-4462-ac3e-c7a41a5c63ee",
   "metadata": {
    "tags": []
   },
   "outputs": [],
   "source": [
    "mes = 'mes'+str(nmes)"
   ]
  },
  {
   "cell_type": "code",
   "execution_count": 28,
   "id": "66d9941b-c25b-41ca-b16c-ebf6e267e04b",
   "metadata": {
    "tags": []
   },
   "outputs": [
    {
     "data": {
      "text/plain": [
       "'mes2'"
      ]
     },
     "execution_count": 28,
     "metadata": {},
     "output_type": "execute_result"
    }
   ],
   "source": [
    "mes"
   ]
  },
  {
   "cell_type": "markdown",
   "id": "3a67056b-04e7-4f99-8e9f-f1fe22f118d2",
   "metadata": {},
   "source": [
    "<h1>Colocar estado de OT (Finalizada/Iniciada)<h>"
   ]
  },
  {
   "cell_type": "code",
   "execution_count": 29,
   "id": "829296f0-a056-4bbe-996e-556109596262",
   "metadata": {},
   "outputs": [],
   "source": [
    "estado = \"Finalizada\""
   ]
  },
  {
   "cell_type": "code",
   "execution_count": 30,
   "id": "38d8230c-880a-48fd-9b50-dd943e21ce27",
   "metadata": {
    "tags": []
   },
   "outputs": [],
   "source": [
    "if estado=='Finalizada':\n",
    "    estado_a='Finalizada'\n",
    "    estado_b='Finalizada'\n",
    "else:\n",
    "    if estado=='Iniciada':\n",
    "        estado_a='Finalizada'\n",
    "        estado_b='Iniciada'\n",
    "    else:\n",
    "        print(\"Compruebe el estado ingresado\\n\")\n"
   ]
  },
  {
   "cell_type": "code",
   "execution_count": 31,
   "id": "b953553f-45f3-4085-b735-ac56940eaeb5",
   "metadata": {},
   "outputs": [],
   "source": [
    "columnas_E=['Sector','CG','um_nombre']\n",
    "columnas=['Sector','CG','um_nombre']\n",
    "semanas_del_mes_P=[]\n",
    "semanas_del_mes_E=[]\n",
    "for semana in tabla_semanas.loc[tabla_semanas.mes==nmes]['semana']:\n",
    "    semanas_del_mes_P.append('columna_'+str(semana))\n",
    "    semanas_del_mes_E.append('columna_'+str(semana)+'_E')\n",
    "    \n",
    "for semana in semanas_del_mes_P:\n",
    "    columnas.append(semana)\n",
    "\n",
    "for semana in semanas_del_mes_E:\n",
    "    columnas_E.append(semana)"
   ]
  },
  {
   "cell_type": "code",
   "execution_count": 32,
   "id": "8d65d234-b085-4443-ad1a-597a083d06d6",
   "metadata": {},
   "outputs": [
    {
     "data": {
      "text/plain": [
       "['Sector',\n",
       " 'CG',\n",
       " 'um_nombre',\n",
       " 'columna_5_E',\n",
       " 'columna_6_E',\n",
       " 'columna_7_E',\n",
       " 'columna_8_E']"
      ]
     },
     "execution_count": 32,
     "metadata": {},
     "output_type": "execute_result"
    }
   ],
   "source": [
    "columnas_E"
   ]
  },
  {
   "cell_type": "code",
   "execution_count": 33,
   "id": "47ae58a3-db62-4a75-965d-401b72986d8b",
   "metadata": {
    "tags": []
   },
   "outputs": [],
   "source": [
    "plan_semanal = plan[columnas].copy()"
   ]
  },
  {
   "cell_type": "code",
   "execution_count": 34,
   "id": "cd96c5f1-1169-4ef7-a372-ebac3e779d73",
   "metadata": {
    "tags": []
   },
   "outputs": [],
   "source": [
    "#plan_semanal = plan_semanal.drop(plan_mes[plan_mes.CG==\"CATENARIA - LC-LA-LP-LDF-LDS\"].index)"
   ]
  },
  {
   "cell_type": "code",
   "execution_count": 35,
   "id": "408e3ce2-ec9e-4f71-9a6e-99b0f5ba6c22",
   "metadata": {
    "tags": []
   },
   "outputs": [],
   "source": [
    "#plan_semanal = (plan_semanal.set_index(['Sector', 'CG','um_nombre'])\n",
    "#   .apply(lambda x: x.str.split(';').explode())\n",
    "#   .reset_index())"
   ]
  },
  {
   "cell_type": "code",
   "execution_count": 36,
   "id": "3a0285ee-d4f5-4af1-b2a6-bfd3bd6fbbee",
   "metadata": {
    "tags": []
   },
   "outputs": [
    {
     "data": {
      "text/html": [
       "<div>\n",
       "<style scoped>\n",
       "    .dataframe tbody tr th:only-of-type {\n",
       "        vertical-align: middle;\n",
       "    }\n",
       "\n",
       "    .dataframe tbody tr th {\n",
       "        vertical-align: top;\n",
       "    }\n",
       "\n",
       "    .dataframe thead th {\n",
       "        text-align: right;\n",
       "    }\n",
       "</style>\n",
       "<table border=\"1\" class=\"dataframe\">\n",
       "  <thead>\n",
       "    <tr style=\"text-align: right;\">\n",
       "      <th></th>\n",
       "      <th>Sector</th>\n",
       "      <th>CG</th>\n",
       "      <th>um_nombre</th>\n",
       "      <th>columna_5</th>\n",
       "      <th>columna_6</th>\n",
       "      <th>columna_7</th>\n",
       "      <th>columna_8</th>\n",
       "    </tr>\n",
       "  </thead>\n",
       "  <tbody>\n",
       "    <tr>\n",
       "      <th>0</th>\n",
       "      <td>SE - BASE PLAZA CONSTITUCION</td>\n",
       "      <td>ABRIGOS / ARMARIOS / BUNGALOW</td>\n",
       "      <td>ALL - A/A/B C2</td>\n",
       "      <td>NaN</td>\n",
       "      <td>NaN</td>\n",
       "      <td>NaN</td>\n",
       "      <td>NaN</td>\n",
       "    </tr>\n",
       "    <tr>\n",
       "      <th>1</th>\n",
       "      <td>SE - BASE PLAZA CONSTITUCION</td>\n",
       "      <td>ABRIGOS / ARMARIOS / BUNGALOW</td>\n",
       "      <td>ALL - A/A/B C11D</td>\n",
       "      <td>NaN</td>\n",
       "      <td>NaN</td>\n",
       "      <td>NaN</td>\n",
       "      <td>NaN</td>\n",
       "    </tr>\n",
       "    <tr>\n",
       "      <th>2</th>\n",
       "      <td>SE - BASE PLAZA CONSTITUCION</td>\n",
       "      <td>ABRIGOS / ARMARIOS / BUNGALOW</td>\n",
       "      <td>ALL - A/A/B C13D</td>\n",
       "      <td>NaN</td>\n",
       "      <td>NaN</td>\n",
       "      <td>NaN</td>\n",
       "      <td>NaN</td>\n",
       "    </tr>\n",
       "    <tr>\n",
       "      <th>3</th>\n",
       "      <td>SE - BASE PLAZA CONSTITUCION</td>\n",
       "      <td>ABRIGOS / ARMARIOS / BUNGALOW</td>\n",
       "      <td>ALL - A/A/B C1</td>\n",
       "      <td>NaN</td>\n",
       "      <td>NaN</td>\n",
       "      <td>NaN</td>\n",
       "      <td>NaN</td>\n",
       "    </tr>\n",
       "    <tr>\n",
       "      <th>4</th>\n",
       "      <td>SE - BASE PLAZA CONSTITUCION</td>\n",
       "      <td>ABRIGOS / ARMARIOS / BUNGALOW</td>\n",
       "      <td>ALL - A/A/B C31</td>\n",
       "      <td>NaN</td>\n",
       "      <td>NaN</td>\n",
       "      <td>NaN</td>\n",
       "      <td>NaN</td>\n",
       "    </tr>\n",
       "    <tr>\n",
       "      <th>...</th>\n",
       "      <td>...</td>\n",
       "      <td>...</td>\n",
       "      <td>...</td>\n",
       "      <td>...</td>\n",
       "      <td>...</td>\n",
       "      <td>...</td>\n",
       "      <td>...</td>\n",
       "    </tr>\n",
       "    <tr>\n",
       "      <th>5093</th>\n",
       "      <td>SE - LD PINAMAR</td>\n",
       "      <td>PASO A NIVEL - FONOLUMINOSO</td>\n",
       "      <td>DPN - PAN FL RUTA 74 PINAMAR 09,220</td>\n",
       "      <td>NaN</td>\n",
       "      <td>PE</td>\n",
       "      <td>NaN</td>\n",
       "      <td>LI</td>\n",
       "    </tr>\n",
       "    <tr>\n",
       "      <th>5094</th>\n",
       "      <td>SE - LD PINAMAR</td>\n",
       "      <td>PASO A NIVEL - FONOLUMINOSO</td>\n",
       "      <td>GUI - PAN FL RUTA 2 PINAMAR 245,599</td>\n",
       "      <td>NaN</td>\n",
       "      <td>PE</td>\n",
       "      <td>NaN</td>\n",
       "      <td>LI</td>\n",
       "    </tr>\n",
       "    <tr>\n",
       "      <th>5095</th>\n",
       "      <td>SE - LD PINAMAR</td>\n",
       "      <td>SEÑALES - MECANICAS - BRAZO</td>\n",
       "      <td>GM - SM B ENTRADA LADO GUIDO</td>\n",
       "      <td>NaN</td>\n",
       "      <td>PE</td>\n",
       "      <td>NaN</td>\n",
       "      <td>LI</td>\n",
       "    </tr>\n",
       "    <tr>\n",
       "      <th>5096</th>\n",
       "      <td>SE - LD PINAMAR</td>\n",
       "      <td>SEÑALES - MECANICAS - BRAZO</td>\n",
       "      <td>GM - SM B ENTRADA LADO PINAMAR</td>\n",
       "      <td>NaN</td>\n",
       "      <td>PE</td>\n",
       "      <td>NaN</td>\n",
       "      <td>LI</td>\n",
       "    </tr>\n",
       "    <tr>\n",
       "      <th>5097</th>\n",
       "      <td>SE - LD PINAMAR</td>\n",
       "      <td>SEÑALES - MECANICAS - BRAZO</td>\n",
       "      <td>DPN - SM B ENTRADA LADO GUIDO</td>\n",
       "      <td>NaN</td>\n",
       "      <td>PE</td>\n",
       "      <td>NaN</td>\n",
       "      <td>LI</td>\n",
       "    </tr>\n",
       "  </tbody>\n",
       "</table>\n",
       "<p>5098 rows × 7 columns</p>\n",
       "</div>"
      ],
      "text/plain": [
       "                            Sector                             CG  \\\n",
       "0     SE - BASE PLAZA CONSTITUCION  ABRIGOS / ARMARIOS / BUNGALOW   \n",
       "1     SE - BASE PLAZA CONSTITUCION  ABRIGOS / ARMARIOS / BUNGALOW   \n",
       "2     SE - BASE PLAZA CONSTITUCION  ABRIGOS / ARMARIOS / BUNGALOW   \n",
       "3     SE - BASE PLAZA CONSTITUCION  ABRIGOS / ARMARIOS / BUNGALOW   \n",
       "4     SE - BASE PLAZA CONSTITUCION  ABRIGOS / ARMARIOS / BUNGALOW   \n",
       "...                            ...                            ...   \n",
       "5093               SE - LD PINAMAR    PASO A NIVEL - FONOLUMINOSO   \n",
       "5094               SE - LD PINAMAR    PASO A NIVEL - FONOLUMINOSO   \n",
       "5095               SE - LD PINAMAR    SEÑALES - MECANICAS - BRAZO   \n",
       "5096               SE - LD PINAMAR    SEÑALES - MECANICAS - BRAZO   \n",
       "5097               SE - LD PINAMAR    SEÑALES - MECANICAS - BRAZO   \n",
       "\n",
       "                                um_nombre columna_5 columna_6 columna_7  \\\n",
       "0                          ALL - A/A/B C2       NaN       NaN       NaN   \n",
       "1                        ALL - A/A/B C11D       NaN       NaN       NaN   \n",
       "2                        ALL - A/A/B C13D       NaN       NaN       NaN   \n",
       "3                          ALL - A/A/B C1       NaN       NaN       NaN   \n",
       "4                         ALL - A/A/B C31       NaN       NaN       NaN   \n",
       "...                                   ...       ...       ...       ...   \n",
       "5093  DPN - PAN FL RUTA 74 PINAMAR 09,220       NaN        PE       NaN   \n",
       "5094  GUI - PAN FL RUTA 2 PINAMAR 245,599       NaN        PE       NaN   \n",
       "5095         GM - SM B ENTRADA LADO GUIDO       NaN        PE       NaN   \n",
       "5096       GM - SM B ENTRADA LADO PINAMAR       NaN        PE       NaN   \n",
       "5097        DPN - SM B ENTRADA LADO GUIDO       NaN        PE       NaN   \n",
       "\n",
       "     columna_8  \n",
       "0          NaN  \n",
       "1          NaN  \n",
       "2          NaN  \n",
       "3          NaN  \n",
       "4          NaN  \n",
       "...        ...  \n",
       "5093        LI  \n",
       "5094        LI  \n",
       "5095        LI  \n",
       "5096        LI  \n",
       "5097        LI  \n",
       "\n",
       "[5098 rows x 7 columns]"
      ]
     },
     "execution_count": 36,
     "metadata": {},
     "output_type": "execute_result"
    }
   ],
   "source": [
    "plan_semanal"
   ]
  },
  {
   "cell_type": "markdown",
   "id": "eeb5a81d-a1f7-4825-9355-a86004174ee6",
   "metadata": {},
   "source": [
    "<h1>Procesamiento plan semanal<h>"
   ]
  },
  {
   "cell_type": "code",
   "execution_count": 37,
   "id": "7b05abe5-7491-4046-8bc3-da30e68c9209",
   "metadata": {},
   "outputs": [],
   "source": [
    "last = len(plan_semanal.index)\n"
   ]
  },
  {
   "cell_type": "code",
   "execution_count": 38,
   "id": "c65905b9-c893-4bac-a205-d807cf69d019",
   "metadata": {
    "tags": []
   },
   "outputs": [],
   "source": [
    "plan_programado = plan_semanal.set_index('um_nombre')\n"
   ]
  },
  {
   "cell_type": "code",
   "execution_count": null,
   "id": "1b512f5d-c66b-4315-bed9-61b27c43498f",
   "metadata": {
    "tags": []
   },
   "outputs": [],
   "source": [
    "sectores = plan_semanal.loc[(plan_semanal.Sector.str.startswith('SE ') | plan_semanal.Sector.str.startswith('TE '))]['Sector'].drop_duplicates()\n",
    "for semana in tabla_semanas.loc[tabla_semanas.mes==nmes]['semana']:\n",
    "    plan_semanal['columna_'+str(semana)+'_E']=np.nan\n",
    "    plan_semanal['columna_'+str(semana)+'_FP']=np.nan\n",
    "    plan_semanal['columna_'+str(semana)+'_orden_nro']=np.nan\n",
    "    \n",
    "for sector in sectores:\n",
    "    cgs = plan_semanal.loc[plan_semanal.Sector==sector]['CG'].drop_duplicates()\n",
    "    for cg in cgs:\n",
    "        ums = plan_semanal.loc[(plan_semanal.Sector==sector) & (plan_semanal.CG==cg)]['um_nombre'].drop_duplicates()\n",
    "        for um in ums:\n",
    "            for semana in tabla_semanas.loc[tabla_semanas.mes==nmes]['semana']: \n",
    "                columnas_fp=['Sector','CG','um_nombre','columna_'+str(semana)+'_FP','columna_'+str(semana)+'_orden_nro']\n",
    "                intervenciones_programadas = plan_semanal.loc[(plan_semanal.Sector==sector) & (plan_semanal.CG==cg) & (plan_semanal.um_nombre==um)]['columna_'+str(semana)]\n",
    "                i = 0\n",
    "                for intervencion_programada in intervenciones_programadas:\n",
    "                    indice = intervenciones_programadas.index[i]\n",
    "                    if not indice<last:\n",
    "                        break\n",
    "                    intervenciones_ejecutadas = crudo.loc[(crudo.Sector==sector) & (crudo.CG==cg) & (crudo.um_nombre==um) & (crudo.semana==semana) & (crudo.TipoOT=='Preventiva') & ((crudo.EstadoOT==estado_a) | (crudo.EstadoOT==estado_b))]['ABR']\n",
    "                    if pd.notna(intervencion_programada) and len(intervenciones_ejecutadas)==0:\n",
    "                        plan_semanal['columna_'+str(semana)+'_E'].iat[indice]=\"N\"\n",
    "                    n=0\n",
    "                    for intervencion_ejecutada in intervenciones_ejecutadas:\n",
    "                        indice_ejecutada = intervenciones_ejecutadas.index[n]\n",
    "                        if pd.notna(intervencion_programada):\n",
    "                            if intervencion_programada in intervenciones_ejecutadas.to_string(index=False):\n",
    "                                indice_ejecutada = crudo.loc[(crudo.Sector==sector) & (crudo.CG==cg) & (crudo.um_nombre==um) & (crudo.semana==semana) & (crudo.TipoOT=='Preventiva') & ((crudo.EstadoOT==estado_a) | (crudo.EstadoOT==estado_b)) & (crudo.ABR==intervencion_programada)].index[0]\n",
    "                                plan_semanal['columna_'+str(semana)+'_E'].iat[indice]=crudo['ABR'].iat[indice_ejecutada]\n",
    "                                plan_semanal['columna_'+str(semana)+'_orden_nro'].iat[indice]=crudo['orden_nro'].iat[indice_ejecutada]\n",
    "                            else:\n",
    "                                if intervencion_programada in valoracion_trabajo.to_string(index=False):\n",
    "                                    if intervencion_ejecutada in valoracion_trabajo.to_string(index=False):\n",
    "                                        if valoracion_trabajo[intervencion_programada][0]>valoracion_trabajo[intervencion_ejecutada][0]:\n",
    "                                            plan_semanal['columna_'+str(semana)+'_E'].iat[indice]=\"N\"\n",
    "                                        else:\n",
    "                                            plan_semanal['columna_'+str(semana)+'_E'].iat[indice]=intervencion_ejecutada\n",
    "                                            plan_semanal['columna_'+str(semana)+'_orden_nro'].iat[indice]=crudo['orden_nro'].iat[indice_ejecutada]\n",
    "                                else:\n",
    "                                    if pd.notna(intervencion_ejecutada):\n",
    "                                        programada_en_semana_anterior=False\n",
    "                                        for semana_fp in tabla_semanas.loc[tabla_semanas.mes==nmes]['semana']:\n",
    "                                            if intervencion_ejecutada==plan_semanal.loc[(plan_semanal.Sector==sector) & (plan_semanal.CG==cg) & (plan_semanal.um_nombre==um)]['columna_'+str(semana_fp)].to_string(index=False):\n",
    "                                                programada_en_semana_anterior=True\n",
    "                                        if not programada_en_semana_anterior:\n",
    "                                            plan_semanal = pd.concat([plan_semanal , pd.DataFrame([[sector,cg,um,intervencion_ejecutada,crudo['orden_nro'].iat[indice_ejecutada]]], columns=columnas_fp)] , ignore_index=True)\n",
    "                                        else:\n",
    "                                            plan_semanal['columna_'+str(semana)+'_E'].iat[indice]=intervencion_ejecutada\n",
    "                                            plan_semanal['columna_'+str(semana)+'_orden_nro'].iat[indice]=crudo['orden_nro'].iat[indice_ejecutada]\n",
    "                                    plan_semanal['columna_'+str(semana)+'_E'].iat[indice]=\"N\"\n",
    "                                    \n",
    "                        else:\n",
    "                            if pd.notna(intervencion_ejecutada):\n",
    "                                programada_en_semana_anterior=False\n",
    "                                for semana_fp in tabla_semanas.loc[tabla_semanas.mes==nmes]['semana']:\n",
    "                                    if intervencion_ejecutada==plan_semanal.loc[(plan_semanal.Sector==sector) & (plan_semanal.CG==cg) & (plan_semanal.um_nombre==um)]['columna_'+str(semana_fp)].to_string(index=False):\n",
    "                                        programada_en_semana_anterior=True\n",
    "                                if not programada_en_semana_anterior:\n",
    "                                    plan_semanal = pd.concat([plan_semanal , pd.DataFrame([[sector,cg,um,intervencion_ejecutada,crudo['orden_nro'].iat[indice_ejecutada]]], columns=columnas_fp)] , ignore_index=True)\n",
    "                                else:\n",
    "                                    plan_semanal['columna_'+str(semana)+'_E'].iat[indice]=intervencion_ejecutada\n",
    "                                    plan_semanal['columna_'+str(semana)+'_orden_nro'].iat[indice]=crudo['orden_nro'].iat[indice_ejecutada]\n",
    "                        n+=1\n",
    "                    i+=1\n"
   ]
  },
  {
   "cell_type": "code",
   "execution_count": null,
   "id": "c7959dfc-cd40-4ea6-9e8b-304cbfdb93e6",
   "metadata": {},
   "outputs": [],
   "source": [
    "crudo.keys()"
   ]
  },
  {
   "cell_type": "code",
   "execution_count": null,
   "id": "95ccf844-fa79-4411-b391-0d980065cbb0",
   "metadata": {},
   "outputs": [],
   "source": [
    "s_min = tabla_semanas.loc[tabla_semanas.mes==nmes]['semana'].min()\n",
    "s_max = tabla_semanas.loc[tabla_semanas.mes==nmes]['semana'].max()"
   ]
  },
  {
   "cell_type": "code",
   "execution_count": null,
   "id": "06e83300-aa74-46c6-9801-d78a8dd4137b",
   "metadata": {},
   "outputs": [],
   "source": [
    "plan_ejecutado = crudo.loc[((crudo.semana>=s_min) & (crudo.semana<=s_max) & (crudo.TipoOT=='Preventiva') & ((crudo.EstadoOT==estado_a) | (crudo.EstadoOT==estado_b)))][['Sector','CG','um_nombre','ABR']].set_index('um_nombre')"
   ]
  },
  {
   "cell_type": "code",
   "execution_count": null,
   "id": "478c17e8-60a9-4dec-bcdd-8665ad9571f5",
   "metadata": {
    "tags": []
   },
   "outputs": [],
   "source": [
    "count_df = pd.DataFrame()\n",
    "count=0\n",
    "for um in plan_programado.index:\n",
    "    if um in plan_ejecutado.index:\n",
    "        intervenciones_programadas = plan_programado.loc[um][semanas_del_mes_P].value_counts()\n",
    "        intervenciones_ejecutadas = plan_ejecutado.loc[um]['ABR']\n",
    "        if not type(intervenciones_ejecutadas)==str:\n",
    "            intervenciones_ejecutadas = intervenciones_ejecutadas.value_counts()\n",
    "        else:\n",
    "            intervenciones_ejecutadas = pd.DataFrame([intervenciones_ejecutadas]).value_counts()\n",
    "        for intervencion in intervenciones_programadas.index:\n",
    "            if len(intervenciones_ejecutadas)!=0:\n",
    "                if intervencion in intervenciones_ejecutadas.index:\n",
    "                    if (intervenciones_ejecutadas.loc[intervencion] > intervenciones_programadas.loc[intervencion]).any():\n",
    "                        count_df = pd.concat([count_df,pd.DataFrame({'Sector' : [plan_programado.loc[um]['Sector']],\n",
    "                                                                    'CG' : [plan_programado.loc[um]['CG']],\n",
    "                                                                    'Tipo' : [intervencion],\n",
    "                                                                    'E' : [intervenciones_programadas[intervencion]],\n",
    "                                                                    'FP' : [(intervenciones_ejecutadas[intervencion]-intervenciones_programadas[intervencion])]})]\n",
    "                                            ,ignore_index=True)\n",
    "                    elif (intervenciones_ejecutadas.loc[intervencion] <= intervenciones_programadas.loc[intervencion]).any():\n",
    "                        count_df = pd.concat([count_df,pd.DataFrame({'Sector' : [plan_programado.loc[um]['Sector']],\n",
    "                                                                    'CG' : [plan_programado.loc[um]['CG']],\n",
    "                                                                    'Tipo' : [intervencion],\n",
    "                                                                    'E' : [intervenciones_ejecutadas[intervencion]]})]\n",
    "                                            ,ignore_index=True)\n",
    "\n",
    "                \n",
    "            "
   ]
  },
  {
   "cell_type": "code",
   "execution_count": null,
   "id": "f4426d98-4029-4731-8d26-063fae697183",
   "metadata": {},
   "outputs": [],
   "source": [
    "count_df.groupby(['Sector','CG','Tipo']).sum()"
   ]
  },
  {
   "cell_type": "code",
   "execution_count": null,
   "id": "5811b557-bdfb-41a4-8a8a-373ad0411dc1",
   "metadata": {
    "tags": []
   },
   "outputs": [],
   "source": [
    "crudo_c = crudo[['Sector','CG','um_nombre','TipoOT','ABR','orden_nro','semana']].copy()\n",
    "crudo_c = crudo_c.loc[(crudo_c.Sector.str.startswith('SE ') | crudo_c.Sector.str.startswith('TE '))]"
   ]
  },
  {
   "cell_type": "code",
   "execution_count": null,
   "id": "262b68b9-493c-48d9-8b72-36db9d712a12",
   "metadata": {
    "tags": []
   },
   "outputs": [],
   "source": [
    "crudo_c = crudo_c.drop(crudo_c[crudo_c.TipoOT!=\"Correctiva\"].index)\n",
    "crudo_c = crudo_c.drop(crudo_c[~((crudo_c.semana>=tabla_semanas.loc[tabla_semanas.mes==nmes]['semana'].iloc[0]) & (crudo_c.semana<=tabla_semanas.loc[tabla_semanas.mes==nmes]['semana'].iloc[-1]))].index)\n"
   ]
  },
  {
   "cell_type": "code",
   "execution_count": null,
   "id": "d3c0c7ce-7a89-48d7-81fb-ae94ae62da8b",
   "metadata": {},
   "outputs": [],
   "source": [
    "plan_mes = pd.DataFrame()\n",
    "for semana in tabla_semanas.loc[tabla_semanas.mes==nmes]['semana']:\n",
    "    plan_mes = pd.concat([plan_mes, plan_semanal[['Sector',\n",
    "                             'CG',\n",
    "                             'um_nombre',\n",
    "                             'columna_'+str(semana),\n",
    "                             'columna_'+str(semana)+'_E',\n",
    "                             'columna_'+str(semana)+'_FP']].copy().rename(columns= {'columna_'+str(semana) : mes,\n",
    "                                                                                   'columna_'+str(semana)+'_E' : mes+'_E',\n",
    "                                                                                   'columna_'+str(semana)+'_FP' : mes+'_FP'})] , ignore_index=True)"
   ]
  },
  {
   "cell_type": "code",
   "execution_count": null,
   "id": "ab543609-87d2-4569-8460-ce01e138ffe1",
   "metadata": {},
   "outputs": [],
   "source": [
    "plan_mes[mes].unique()"
   ]
  },
  {
   "cell_type": "code",
   "execution_count": null,
   "id": "d87e3057-411e-4466-80d8-335e95642a90",
   "metadata": {
    "tags": []
   },
   "outputs": [],
   "source": [
    "crudo_c = crudo_c.drop(columns=['TipoOT'])\n",
    "crudo_c = crudo_c.drop(columns=['semana'])\n",
    "plan_mes = pd.concat([plan_mes , crudo_c], ignore_index=True)"
   ]
  },
  {
   "cell_type": "code",
   "execution_count": null,
   "id": "c402c296-d691-4e4f-ab8e-7b537f20f8f3",
   "metadata": {},
   "outputs": [],
   "source": [
    "columnas_sabana=['Sector','CG','um_nombre']\n",
    "for semana in tabla_semanas.loc[tabla_semanas.mes==nmes]['semana']:\n",
    "    columnas_sabana.append('columna_'+str(semana))\n",
    "    columnas_sabana.append('columna_'+str(semana)+'_E')\n",
    "    columnas_sabana.append('columna_'+str(semana)+'_FP')\n",
    "    columnas_sabana.append('columna_'+str(semana)+'_orden_nro')\n",
    "columnas_sabana"
   ]
  },
  {
   "cell_type": "code",
   "execution_count": null,
   "id": "a289fe1d-6f77-441a-94aa-4704416bb462",
   "metadata": {
    "tags": []
   },
   "outputs": [],
   "source": [
    "plan_mes.rename( columns={'ABR': mes+'_E_C' }, inplace=True)\n",
    "plan_mes = plan_mes.reindex( columns=['Sector','CG','um_nombre',mes,mes+'_E',mes+'_FP',mes+'_E_C','orden_nro'])\n",
    "plan_semanal = plan_semanal.reindex( columns=columnas_sabana)"
   ]
  },
  {
   "cell_type": "code",
   "execution_count": null,
   "id": "7170298a-cdae-4a10-8fba-d747bc8ae9d7",
   "metadata": {
    "tags": []
   },
   "outputs": [],
   "source": [
    "crudo.keys()"
   ]
  },
  {
   "cell_type": "code",
   "execution_count": null,
   "id": "6ef9c407-d94a-4314-9b93-cc3e68fdec69",
   "metadata": {
    "tags": []
   },
   "outputs": [],
   "source": [
    "plan_semanal.loc[:,:].to_excel(r'C:\\Users\\juan.carrizo\\Desktop\\plan_semanal_sabana_'+pd.to_datetime('today').strftime('%d-%m-%Y')+'_por_'+estado+'.xlsx' )"
   ]
  },
  {
   "cell_type": "code",
   "execution_count": null,
   "id": "9eabccc5-dd65-43ed-bc84-d81b1172dce9",
   "metadata": {
    "tags": []
   },
   "outputs": [],
   "source": [
    "plan_mes_P = plan_mes[['Sector','CG','um_nombre',mes]].copy().rename(columns= { mes : 'Tipo'})\n",
    "report_P = plan_mes_P.groupby(['Sector','CG','Tipo']).count()\n",
    "#plan_mes_E = plan_mes[['Sector','CG','um_nombre',mes+'_E']].copy().drop(plan_mes[plan_mes[mes+'_E']=='N'].index).rename(columns= { mes+'_E' : 'Tipo'})\n",
    "report_E_FP = count_df.groupby(['Sector','CG','Tipo']).sum()\n",
    "#plan_mes_FP = plan_mes[['Sector','CG','um_nombre',mes+'_FP']].copy().rename(columns= { mes+'_FP' : 'Tipo'})\n",
    "#report_FP = plan_mes_FP.groupby(['Sector','CG','Tipo']).count()\n",
    "plan_mes_C = plan_mes[['Sector','CG','um_nombre',mes+'_E_C']].copy().rename(columns= { mes+'_E_C' : 'Tipo'})\n",
    "report_C = plan_mes_C.groupby(['Sector','CG','Tipo']).count()"
   ]
  },
  {
   "cell_type": "code",
   "execution_count": null,
   "id": "b1335369-5133-4513-b793-5f4ca1a96de8",
   "metadata": {
    "tags": []
   },
   "outputs": [],
   "source": [
    "report_P = report_P.rename( columns= { 'um_nombre': 'P' })\n",
    "#report_E = report_E.rename( columns= { 'um_nombre': 'E' })\n",
    "report_C = report_C.rename( columns= { 'um_nombre': 'C' })\n",
    "#report_FP = report_FP.rename( columns= { 'um_nombre': 'FP' })\n"
   ]
  },
  {
   "cell_type": "code",
   "execution_count": null,
   "id": "cc994147-5d7e-4f6c-8bc1-c6e231a22cd1",
   "metadata": {
    "tags": []
   },
   "outputs": [],
   "source": [
    "report = pd.merge(report_P , report_E_FP ,on=['Sector','CG','Tipo'],how='outer')\n",
    "report = pd.merge(report , report_C ,on=['Sector','CG','Tipo'],how='outer')\n",
    "#report = pd.merge(report , report_FP ,on=['Sector','CG','Tipo'],how='outer')"
   ]
  },
  {
   "cell_type": "code",
   "execution_count": null,
   "id": "db1fec35-e1f5-4240-b79f-63140969c877",
   "metadata": {
    "tags": []
   },
   "outputs": [],
   "source": [
    "writer = pd.ExcelWriter(r'C:\\Users\\juan.carrizo\\Desktop\\cumplimiento_semanal_'+pd.to_datetime('today').strftime('%d-%m-%Y')+'_por_'+estado+'.xlsx',engine='xlsxwriter')\n",
    "workbook = writer.book\n",
    "worksheet=workbook.add_worksheet('CUMPLIMIENTO')\n",
    "writer.sheets['CUMPLIMIENTO'] = worksheet"
   ]
  },
  {
   "cell_type": "code",
   "execution_count": null,
   "id": "7586c5fb-58c5-45f7-83ab-e2a8a502bb27",
   "metadata": {
    "tags": []
   },
   "outputs": [],
   "source": [
    "cumplimiento = report.groupby(['Sector']).sum()\n",
    "cumplimiento['%'] = (cumplimiento['E']/cumplimiento['P']*100).round(2)\n",
    "cumplimiento.to_excel(writer , sheet_name='CUMPLIMIENTO')"
   ]
  },
  {
   "cell_type": "code",
   "execution_count": null,
   "id": "21c8f0f6-ff58-421c-8fba-ffacb98b02df",
   "metadata": {
    "tags": []
   },
   "outputs": [],
   "source": [
    "worksheet=workbook.add_worksheet('DETALLE')\n",
    "writer.sheets['DETALLE'] = worksheet\n",
    "report.loc[:,:].to_excel(writer, sheet_name='DETALLE')"
   ]
  },
  {
   "cell_type": "code",
   "execution_count": null,
   "id": "9f2da263-87ab-4d10-b125-59187509064e",
   "metadata": {},
   "outputs": [],
   "source": [
    "report"
   ]
  },
  {
   "cell_type": "code",
   "execution_count": null,
   "id": "f6fedfec-536b-4a32-a639-26c91c0fa4ea",
   "metadata": {
    "tags": []
   },
   "outputs": [],
   "source": [
    "writer.close()"
   ]
  },
  {
   "cell_type": "code",
   "execution_count": null,
   "id": "1012e44a-cc7b-4ffc-b18a-4c0d99c57486",
   "metadata": {},
   "outputs": [],
   "source": [
    "cumplimiento"
   ]
  },
  {
   "cell_type": "code",
   "execution_count": null,
   "id": "5e557818-20bd-4499-8f8a-956151237be6",
   "metadata": {},
   "outputs": [],
   "source": []
  },
  {
   "cell_type": "code",
   "execution_count": null,
   "id": "8e589342-9a65-4f9d-bb60-f687543b926b",
   "metadata": {},
   "outputs": [],
   "source": []
  }
 ],
 "metadata": {
  "kernelspec": {
   "display_name": "Python 3 (ipykernel)",
   "language": "python",
   "name": "python3"
  },
  "language_info": {
   "codemirror_mode": {
    "name": "ipython",
    "version": 3
   },
   "file_extension": ".py",
   "mimetype": "text/x-python",
   "name": "python",
   "nbconvert_exporter": "python",
   "pygments_lexer": "ipython3",
   "version": "3.10.5"
  }
 },
 "nbformat": 4,
 "nbformat_minor": 5
}
