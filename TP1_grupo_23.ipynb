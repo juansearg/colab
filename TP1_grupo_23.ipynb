{
  "cells": [
    {
      "cell_type": "markdown",
      "metadata": {
        "id": "view-in-github",
        "colab_type": "text"
      },
      "source": [
        "<a href=\"https://colab.research.google.com/github/juansearg/colab/blob/main/TP1_grupo_23.ipynb\" target=\"_parent\"><img src=\"https://colab.research.google.com/assets/colab-badge.svg\" alt=\"Open In Colab\"/></a>"
      ]
    },
    {
      "cell_type": "markdown",
      "source": [
        "1. Hallar los puntos de intersección de los grá\n",
        "cos de $f(x) = 2x−6$ y $g(x) = (2x−6)^{−1}$.\n",
        "Graficar en Python ambas curvas y sus respectivos puntos de intersección."
      ],
      "metadata": {
        "id": "KlXe_cIsp2Wt"
      }
    },
    {
      "cell_type": "markdown",
      "source": [
        "Igualamos ambas funciones: <br />\n",
        "$$\n",
        "\\begin{align}f(x)&=g(x) \\\\\n",
        "2x-6&=(2x-6)^{-1} \\\\\n",
        "2x-6&=\\frac{1}{2x-6} \\\\\n",
        "(2x-6).(2x-6)&=1 \\\\\n",
        "4x^2-12x-12x+36-1&=0 \\\\\n",
        "4x^2-24x+35&=0 \\\\\n",
        "\\\\\n",
        "a=4 \\hspace{1in} b&=-24 \\hspace{1in} c=35\n",
        "\\end{align} \n",
        "$$\n",
        "<br />\n",
        "Utilizamos la fórmula de Bhaskara:\n",
        "$$\n",
        "\\begin{align}\n",
        "x_1;x_2&=\\frac{{-b}\\pm\\sqrt{b^2-4.a.c}}{2.a}\\\\\n",
        "x_1;x_2&=\\frac{{-(-24)}\\pm\\sqrt{(-24)^2-4.4.35}}{2.4}\\\\\n",
        "x_1;x_2&=\\frac{{24}\\pm\\sqrt{576-560}}{8}\\\\\n",
        "x_1;x_2&=\\frac{{24}\\pm\\sqrt{16}}{8}\\\\\n",
        "x_1=\\frac{{24}+4}{8}=\\frac{28}{8}=\\frac{7}{2} &\\hspace{1in} x_2=\\frac{{24}-4}{8}=\\frac{20}{8}=\\frac{5}{2}\\\\\n",
        "\\\\\n",
        "x_1=\\frac{7}{2} &\\hspace{1in} x_2=\\frac{5}{2}\n",
        "\\end{align}\n",
        "$$\n",
        "\n",
        "\n",
        "\n"
      ],
      "metadata": {
        "id": "L0y3zFkyAWIe"
      }
    },
    {
      "cell_type": "markdown",
      "source": [],
      "metadata": {
        "id": "ZY8MKz70SmA6"
      }
    },
    {
      "cell_type": "markdown",
      "source": [
        "A continuación generaremos una tabla de valores para graficar. Sabiendo que para que se vea la intersección los puntos $x_1$ y $x_2$ deben estar incluidos en la tabla de valores de $x$.<br />\n",
        "Analizando las imagenes vemos que:<br/>\n",
        "$$\n",
        "\\begin{align}\\\\\n",
        "Dom\\hspace{0.1in}f(x)=R\\hspace{1in}\n",
        "Im\\hspace{0.1in}f(x)=R\n",
        "\\end{align}\n",
        "$$\n",
        "<br >\n",
        "Para $g(x)$ nos encontramos con que tenemos un problema en el denominador, ya que el mismo no puede ser $0$:<br >\n",
        "$$\n",
        "\\begin{align}\n",
        "2x-6&=0\\\\\n",
        "2x&=6\\\\\n",
        "x&=\\frac{6}{2}=3\\\\\n",
        "\\end{align}\n",
        "$$\n",
        "Entonces:<br />\n",
        "$$\n",
        "\\begin{align}\n",
        "Dom\\hspace{0.1in}g(x)=R-\\{3\\}\\hspace{1in}\n",
        "Im\\hspace{0.1in}g(x)=R-\\{0\\}\\\\\n",
        "\\end{align}\n",
        "$$<br />\n",
        "Tenemos una asintota vertical en $x=3$ y una asintota horizontal en $y=0$.<br /><br />\n",
        "Primero se definen las funciones $f(x)$ y $g(x)$."
      ],
      "metadata": {
        "id": "BG6Rvn-CO32f"
      }
    },
    {
      "cell_type": "code",
      "source": [
        "import math #se importan las librería que nos permitirá realizar distintas operaciones matemáticas.\n",
        "import numpy as np\n",
        "import matplotlib.pyplot as plt #librería utilizada para graficar.\n",
        "import pandas as pd #librería para el manejo de datasets."
      ],
      "metadata": {
        "id": "wDMUdqb6pqMs"
      },
      "execution_count": null,
      "outputs": []
    },
    {
      "cell_type": "code",
      "source": [
        "intervalo=[]# definimos intervalo como una lista de valores.\n",
        "\n",
        "def f_de_x(x: intervalo)->intervalo: # definimos f de x.\n",
        "  return 2*x-6\n",
        "\n",
        "def g_de_x(x: intervalo)->intervalo: # definimos g de x.\n",
        "  return 1/(2*x-6)"
      ],
      "metadata": {
        "id": "Zu-65-HcPXAf"
      },
      "execution_count": null,
      "outputs": []
    },
    {
      "cell_type": "markdown",
      "source": [
        "Creamos el arreglo con los valores de $x$."
      ],
      "metadata": {
        "id": "MCtc1bQ3VI94"
      }
    },
    {
      "cell_type": "code",
      "source": [
        "x = np.arange(-5,5,0.01) #utilizamos la función de numpy arange(inicio,final,salto)."
      ],
      "metadata": {
        "id": "lGmjCpthV4cB"
      },
      "execution_count": null,
      "outputs": []
    },
    {
      "cell_type": "markdown",
      "source": [
        "Graficamos ambas funciones."
      ],
      "metadata": {
        "id": "VAH8uhEaW4kL"
      }
    },
    {
      "cell_type": "code",
      "source": [
        "# Definimos la asintota vertical y horizontal de g(x)\n",
        "asintota_v=3\n",
        "asintota_h=0\n",
        "\n",
        "# Partimos el dominio en x=3\n",
        "x1=x[x<asintota_v]\n",
        "x2=x[x>asintota_v]\n",
        "\n",
        "# Calculamos las imagenes\n",
        "y=f_de_x(x)\n",
        "y1=g_de_x(x1)\n",
        "y2=g_de_x(x2)\n",
        "\n",
        "# Creamos los gráficos mediante subplots.\n",
        "\n",
        "plt.plot(x,y, label='f(x)')\n",
        "plt.plot(x1,y1, label='g(x)', color='orange') # Se crean las imágenes partidas pero se utiliza el mismo color 'orange'.\n",
        "plt.plot(x2,y2, label='_nolegend_', color='orange') # Usamos la etiqueta '_nolegend_' para que no la muestre en las etiquetas.\n",
        "plt.plot([asintota_v, asintota_v], [np.min(y1), np.max(y2)], 'r--', label='_nolegend_') # Agregamos la línea punteada de la asintota vertical.\n",
        "plt.plot([np.min(x1), np.max(x2)] ,[asintota_h, asintota_h], 'r--', label='_nolegend_') # Agregamos la línea punteada de la asintota horizontal.\n",
        "\n",
        "# Limitamos el rango de y para poder ver algo\n",
        "plt.ylim(-5,5)\n",
        "\n",
        "# Limitamos el rango de x al rango de x1 y x2\n",
        "plt.xlim(-1,5)\n",
        "\n",
        "# Marco los dos puntos de interseccion x1 y x2\n",
        "plt.plot(5/2, g_de_x(5/2), 'ro', label='intersección')\n",
        "plt.plot(7/2, g_de_x(7/2), 'ro', label='_nolegend_')\n",
        "\n",
        "# Ejecutamos el comando para que muestre la grilla\n",
        "plt.grid()\n",
        "\n",
        "# Etiquetamos el eje x y eje y\n",
        "plt.xlabel('eje x')\n",
        "plt.ylabel('eje y')\n",
        "\n",
        "# Colocamos un título.\n",
        "plt.title('f(x) vs g(x)')\n",
        "\n",
        "plt.legend() # Comando para que muestre las etiquetas.\n",
        "\n",
        "plt.show()\n",
        "\n"
      ],
      "metadata": {
        "colab": {
          "base_uri": "https://localhost:8080/",
          "height": 472
        },
        "id": "zJsLyID5W80E",
        "outputId": "b0d4adf8-fade-432c-d6af-bcca33ae9ee9"
      },
      "execution_count": null,
      "outputs": [
        {
          "output_type": "display_data",
          "data": {
            "text/plain": [
              "<Figure size 640x480 with 1 Axes>"
            ],
            "image/png": "[encoded data removed]"
          },
          "metadata": {}
        }
      ]
    },
    {
      "cell_type": "markdown",
      "source": [
        "2.  a) Elaborar un programa en Python que verique si $x=2$ y $x=9$ son\n",
        "soluciones de la ecuación $(3x − 5)^2 = (x − 1)^2$.\n",
        "¿Hay otros valores de x que satisfacen la ecuación? Justicarlo."
      ],
      "metadata": {
        "id": "eElgDLGTcXv7"
      }
    },
    {
      "cell_type": "code",
      "source": [
        "# Definimos x1 y x2.\n",
        "x1 = 2\n",
        "x2 = 9\n",
        "# utilizamos condicionales para evaluar ambos valores.\n",
        "if (3*x1-5)**2 == (x1-1)**2:\n",
        "  print(\"x1 es solución de la ecuación\")\n",
        "else:\n",
        "  print(\"x1 no es solución de la ecuación\")\n",
        "if (3*x2-5)**2 == (x2-1)**2:\n",
        "  print(\"x2 es solución de la ecuación\")\n",
        "else:\n",
        "  print(\"x2 no es solución de la ecuación\")\n"
      ],
      "metadata": {
        "id": "y_rm_eLteDL2",
        "outputId": "966d600a-a3d7-45bd-bb92-737ef660e330",
        "colab": {
          "base_uri": "https://localhost:8080/"
        }
      },
      "execution_count": 6,
      "outputs": [
        {
          "output_type": "stream",
          "name": "stdout",
          "text": [
            "x1 es solución de la ecuación\n",
            "x2 no es solución de la ecuación\n"
          ]
        }
      ]
    },
    {
      "cell_type": "markdown",
      "source": [
        "Como el código arroja podemos decir que $x=2$ si es solución de la ecuación pero $x=9$ no lo es. Cómo la ecuación es polinómica de grado 2 podemos decir que posee dos soluciones a la ecuación. Desarollaremos analiticamente para obtener el otro valor de $x$ que es solución.<br />\n",
        "Igualamos ambas funciones: <br />\n",
        "$$\n",
        "\\begin{align}(3x-5)^2&=(x-1)^2 \\\\\n",
        "9x^2-15x-15x+25&=x^2-x-x+1 \\\\\n",
        "9x^2-30x+25&=x^2-2x+1 \\\\\n",
        "9x^2-30x+25-x^2+2x-1&=0 \\\\\n",
        "8x^2-28x+24&=0 \\\\\n",
        "\\\\\n",
        "a=8 \\hspace{1in} b&=-28 \\hspace{1in} c=24\n",
        "\\end{align} \n",
        "$$\n",
        "<br />\n",
        "Utilizamos la fórmula de Bhaskara:\n",
        "$$\n",
        "\\begin{align}\n",
        "x_1;x_2&=\\frac{{-b}\\pm\\sqrt{b^2-4.a.c}}{2.a}\\\\\n",
        "x_1;x_2&=\\frac{{-(-28)}\\pm\\sqrt{(-28)^2-4.8.24}}{2.8}\\\\\n",
        "x_1;x_2&=\\frac{{28}\\pm\\sqrt{784-768}}{16}\\\\\n",
        "x_1;x_2&=\\frac{{28}\\pm\\sqrt{16}}{16}\\\\\n",
        "x_1=\\frac{{28}+4}{16}=\\frac{32}{16}=2 &\\hspace{1in} x_2=\\frac{{28}-4}{16}=\\frac{24}{16}=\\frac{3}{2}\\\\\n",
        "\\\\\n",
        "x_1=2 &\\hspace{1in} x_2=\\frac{3}{2}\n",
        "\\end{align}\n",
        "$$"
      ],
      "metadata": {
        "id": "ECEV27J5gEam"
      }
    },
    {
      "cell_type": "code",
      "source": [
        "# Definimos el nuevo valor de x2.\n",
        "x2 = 3/2\n",
        "# utilizamos condicionales para evaluar el nuevo valor.\n",
        "if (3*x2-5)**2 == (x2-1)**2:\n",
        "  print(\"x2 es solución de la ecuación\")\n",
        "else:\n",
        "  print(\"x2 no es solución de la ecuación\")"
      ],
      "metadata": {
        "id": "C22hsepXjcgq",
        "outputId": "3df69e7b-41c9-45ec-9115-6d3ed3f3ffc1",
        "colab": {
          "base_uri": "https://localhost:8080/"
        }
      },
      "execution_count": 7,
      "outputs": [
        {
          "output_type": "stream",
          "name": "stdout",
          "text": [
            "x2 es solución de la ecuación\n"
          ]
        }
      ]
    }
  ],
  "metadata": {
    "colab": {
      "provenance": [],
      "include_colab_link": true
    },
    "kernelspec": {
      "display_name": "general_ml",
      "language": "python",
      "name": "python3"
    },
    "language_info": {
      "codemirror_mode": {
        "name": "ipython",
        "version": 3
      },
      "file_extension": ".py",
      "mimetype": "text/x-python",
      "name": "python",
      "nbconvert_exporter": "python",
      "pygments_lexer": "ipython3",
      "version": "3.10.4"
    },
    "vscode": {
      "interpreter": {
        "hash": "500c13cf53442f32c46d8caa9362a7fb75621b4fa25e8da1bc82b330802ecc3a"
      }
    }
  },
  "nbformat": 4,
  "nbformat_minor": 0
}