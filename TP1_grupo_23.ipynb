{
  "cells": [
    {
      "cell_type": "markdown",
      "metadata": {
        "id": "view-in-github",
        "colab_type": "text"
      },
      "source": [
        "<a href=\"https://colab.research.google.com/github/juansearg/colab/blob/main/TP1_grupo_23.ipynb\" target=\"_parent\"><img src=\"https://colab.research.google.com/assets/colab-badge.svg\" alt=\"Open In Colab\"/></a>"
      ]
    },
    {
      "cell_type": "markdown",
      "source": [
        "<center>\n",
        "  <img src=\"data:image/png;base64,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\"\n",
        "\n",
        "---\n",
        "## Trabajo Práctico Nº1 - Análisis matemático I - Grupo 23\n",
        "\n",
        "---\n",
        "\n",
        "\n",
        "Universidad Nacional Guillermo Brown - 1er Cuatrimestre - Año 2023 <center />"
      ],
      "metadata": {
        "id": "DNniIKkDl3Bq"
      }
    },
    {
      "cell_type": "markdown",
      "source": [
        "1. Hallar los puntos de intersección de los gráficos de $f(x) = 2x−6$ y $g(x) = (2x−6)^{−1}$.\n",
        "Graficar en Python ambas curvas y sus respectivos puntos de intersección."
      ],
      "metadata": {
        "id": "KlXe_cIsp2Wt"
      }
    },
    {
      "cell_type": "markdown",
      "source": [
        "Igualamos ambas funciones: <br />\n",
        "$$\n",
        "\\begin{align}f(x)&=g(x) \\\\\n",
        "2x-6&=(2x-6)^{-1} \\\\\n",
        "2x-6&=\\frac{1}{2x-6} \\\\\n",
        "(2x-6).(2x-6)&=1 \\\\\n",
        "4x^2-12x-12x+36-1&=0 \\\\\n",
        "4x^2-24x+35&=0 \\\\\n",
        "\\\\\n",
        "a=4 \\hspace{1in} b&=-24 \\hspace{1in} c=35\n",
        "\\end{align} \n",
        "$$\n",
        "<br />\n",
        "Utilizamos la fórmula de Bhaskara:\n",
        "$$\n",
        "\\begin{align}\n",
        "x_1;x_2&=\\frac{{-b}\\pm\\sqrt{b^2-4.a.c}}{2.a}\\\\\n",
        "x_1;x_2&=\\frac{{-(-24)}\\pm\\sqrt{(-24)^2-4.4.35}}{2.4}\\\\\n",
        "x_1;x_2&=\\frac{{24}\\pm\\sqrt{576-560}}{8}\\\\\n",
        "x_1;x_2&=\\frac{{24}\\pm\\sqrt{16}}{8}\\\\\n",
        "x_1=\\frac{{24}+4}{8}=\\frac{28}{8}=\\frac{7}{2} &\\hspace{1in} x_2=\\frac{{24}-4}{8}=\\frac{20}{8}=\\frac{5}{2}\\\\\n",
        "\\\\\n",
        "x_1=\\frac{7}{2} &\\hspace{1in} x_2=\\frac{5}{2}\n",
        "\\end{align}\n",
        "$$\n",
        "\n",
        "\n",
        "\n"
      ],
      "metadata": {
        "id": "L0y3zFkyAWIe"
      }
    },
    {
      "cell_type": "markdown",
      "source": [],
      "metadata": {
        "id": "ZY8MKz70SmA6"
      }
    },
    {
      "cell_type": "markdown",
      "source": [
        "A continuación generaremos una tabla de valores para graficar. Sabiendo que para que se vea la intersección los puntos $x_1$ y $x_2$ deben estar incluidos en la tabla de valores de $x$.<br />\n",
        "Analizando las imagenes vemos que:<br/>\n",
        "$$\n",
        "\\begin{align}\\\\\n",
        "Dom\\hspace{0.1in}f(x)=R\\hspace{1in}\n",
        "Im\\hspace{0.1in}f(x)=R\n",
        "\\end{align}\n",
        "$$\n",
        "<br >\n",
        "Para $g(x)$ nos encontramos con que tenemos un problema en el denominador, ya que el mismo no puede ser $0$:<br >\n",
        "$$\n",
        "\\begin{align}\n",
        "2x-6&=0\\\\\n",
        "2x&=6\\\\\n",
        "x&=\\frac{6}{2}=3\\\\\n",
        "\\end{align}\n",
        "$$\n",
        "Entonces:<br />\n",
        "$$\n",
        "\\begin{align}\n",
        "Dom\\hspace{0.1in}g(x)=R-\\{3\\}\\hspace{1in}\n",
        "Im\\hspace{0.1in}g(x)=R-\\{0\\}\\\\\n",
        "\\end{align}\n",
        "$$<br />\n",
        "Tenemos una asintota vertical en $x=3$ y una asintota horizontal en $y=0$.<br /><br />\n",
        "Primero se definen las funciones $f(x)$ y $g(x)$."
      ],
      "metadata": {
        "id": "BG6Rvn-CO32f"
      }
    },
    {
      "cell_type": "code",
      "source": [
        "import math #se importan las librería que nos permitirá realizar distintas operaciones matemáticas.\n",
        "import numpy as np\n",
        "import matplotlib.pyplot as plt #librería utilizada para graficar.\n",
        "import pandas as pd #librería para el manejo de datasets."
      ],
      "metadata": {
        "id": "wDMUdqb6pqMs"
      },
      "execution_count": 1,
      "outputs": []
    },
    {
      "cell_type": "code",
      "source": [
        "intervalo=[]# definimos intervalo como una lista de valores.\n",
        "\n",
        "def f_de_x(x: intervalo)->intervalo: # definimos f de x.\n",
        "  return 2*x-6\n",
        "\n",
        "def g_de_x(x: intervalo)->intervalo: # definimos g de x.\n",
        "  return 1/(2*x-6)"
      ],
      "metadata": {
        "id": "Zu-65-HcPXAf"
      },
      "execution_count": 2,
      "outputs": []
    },
    {
      "cell_type": "markdown",
      "source": [
        "Creamos el arreglo con los valores de $x$."
      ],
      "metadata": {
        "id": "MCtc1bQ3VI94"
      }
    },
    {
      "cell_type": "code",
      "source": [
        "x = np.arange(-5,5,0.01) #utilizamos la función de numpy arange(inicio,final,salto)."
      ],
      "metadata": {
        "id": "lGmjCpthV4cB"
      },
      "execution_count": 3,
      "outputs": []
    },
    {
      "cell_type": "markdown",
      "source": [
        "Graficamos ambas funciones."
      ],
      "metadata": {
        "id": "VAH8uhEaW4kL"
      }
    },
    {
      "cell_type": "code",
      "source": [
        "# Definimos la asintota vertical y horizontal de g(x)\n",
        "asintota_v=3\n",
        "asintota_h=0\n",
        "\n",
        "# Partimos el dominio en x=3\n",
        "x1=x[x<asintota_v]\n",
        "x2=x[x>asintota_v]\n",
        "\n",
        "# Calculamos las imagenes\n",
        "y=f_de_x(x)\n",
        "y1=g_de_x(x1)\n",
        "y2=g_de_x(x2)\n",
        "\n",
        "# Creamos los gráficos mediante subplots.\n",
        "\n",
        "plt.plot(x,y, label='f(x)')\n",
        "plt.plot(x1,y1, label='g(x)', color='orange') # Se crean las imágenes partidas pero se utiliza el mismo color 'orange'.\n",
        "plt.plot(x2,y2, label='_nolegend_', color='orange') # Usamos la etiqueta '_nolegend_' para que no la muestre en las etiquetas.\n",
        "plt.plot([asintota_v, asintota_v], [np.min(y1), np.max(y2)], 'r--', label='asintotas de g(x)') # Agregamos la línea punteada de la asintota vertical.\n",
        "plt.plot([np.min(x1), np.max(x2)] ,[asintota_h, asintota_h], 'r--', label='_nolegend_') # Agregamos la línea punteada de la asintota horizontal.\n",
        "\n",
        "# Limitamos el rango de y para poder ver algo\n",
        "plt.ylim(-5,5)\n",
        "\n",
        "# Limitamos el rango de x al rango de x1 y x2\n",
        "plt.xlim(-1,5)\n",
        "\n",
        "# Marco los dos puntos de interseccion x1 y x2\n",
        "plt.plot(5/2, g_de_x(5/2), 'ro', label='intersección')\n",
        "plt.plot(7/2, g_de_x(7/2), 'ro', label='_nolegend_')\n",
        "\n",
        "# Ejecutamos el comando para que muestre la grilla\n",
        "plt.grid()\n",
        "\n",
        "# Etiquetamos el eje x y eje y\n",
        "plt.xlabel('eje x')\n",
        "plt.ylabel('eje y')\n",
        "\n",
        "# Colocamos un título.\n",
        "plt.title('f(x) vs g(x)')\n",
        "\n",
        "plt.legend() # Comando para que muestre las etiquetas.\n",
        "\n",
        "plt.show()\n",
        "\n"
      ],
      "metadata": {
        "colab": {
          "base_uri": "https://localhost:8080/",
          "height": 472
        },
        "id": "zJsLyID5W80E",
        "outputId": "6bc71400-c5dc-449d-c7de-3abc8447283c"
      },
      "execution_count": 4,
      "outputs": [
        {
          "output_type": "display_data",
          "data": {
            "text/plain": [
              "<Figure size 640x480 with 1 Axes>"
            ],
            "image/png": "[encoded data removed]"
          },
          "metadata": {}
        }
      ]
    },
    {
      "cell_type": "markdown",
      "source": [
        "2.  a) Elaborar un programa en Python que verique si $x=2$ y $x=9$ son\n",
        "soluciones de la ecuación $(3x − 5)^2 = (x − 1)^2$.\n",
        "¿Hay otros valores de x que satisfacen la ecuación? Justicarlo."
      ],
      "metadata": {
        "id": "eElgDLGTcXv7"
      }
    },
    {
      "cell_type": "code",
      "source": [
        "# Definimos x1 y x2.\n",
        "x1 = 2\n",
        "x2 = 9\n",
        "# utilizamos condicionales para evaluar ambos valores.\n",
        "if (3*x1-5)**2 == (x1-1)**2:\n",
        "  print(\"x1 es solución de la ecuación\")\n",
        "else:\n",
        "  print(\"x1 no es solución de la ecuación\")\n",
        "if (3*x2-5)**2 == (x2-1)**2:\n",
        "  print(\"x2 es solución de la ecuación\")\n",
        "else:\n",
        "  print(\"x2 no es solución de la ecuación\")\n"
      ],
      "metadata": {
        "colab": {
          "base_uri": "https://localhost:8080/"
        },
        "id": "y_rm_eLteDL2",
        "outputId": "56428328-f291-4355-dc69-b0d36c1b26aa"
      },
      "execution_count": 5,
      "outputs": [
        {
          "output_type": "stream",
          "name": "stdout",
          "text": [
            "x1 es solución de la ecuación\n",
            "x2 no es solución de la ecuación\n"
          ]
        }
      ]
    },
    {
      "cell_type": "markdown",
      "source": [
        "Como el código arroja podemos decir que $x=2$ si es solución de la ecuación pero $x=9$ no lo es. Cómo la ecuación es polinómica de grado 2 podemos decir que posee dos soluciones a la ecuación. Desarollaremos analiticamente para obtener el otro valor de $x$ que es solución.<br />\n",
        "Igualamos ambas funciones: <br />\n",
        "$$\n",
        "\\begin{align}(3x-5)^2&=(x-1)^2 \\\\\n",
        "9x^2-15x-15x+25&=x^2-x-x+1 \\\\\n",
        "9x^2-30x+25&=x^2-2x+1 \\\\\n",
        "9x^2-30x+25-x^2+2x-1&=0 \\\\\n",
        "8x^2-28x+24&=0 \\\\\n",
        "\\\\\n",
        "a=8 \\hspace{1in} b&=-28 \\hspace{1in} c=24\n",
        "\\end{align} \n",
        "$$\n",
        "<br />\n",
        "Utilizamos la fórmula de Bhaskara:\n",
        "$$\n",
        "\\begin{align}\n",
        "x_1;x_2&=\\frac{{-b}\\pm\\sqrt{b^2-4.a.c}}{2.a}\\\\\n",
        "x_1;x_2&=\\frac{{-(-28)}\\pm\\sqrt{(-28)^2-4.8.24}}{2.8}\\\\\n",
        "x_1;x_2&=\\frac{{28}\\pm\\sqrt{784-768}}{16}\\\\\n",
        "x_1;x_2&=\\frac{{28}\\pm\\sqrt{16}}{16}\\\\\n",
        "x_1=\\frac{{28}+4}{16}=\\frac{32}{16}=2 &\\hspace{1in} x_2=\\frac{{28}-4}{16}=\\frac{24}{16}=\\frac{3}{2}\\\\\n",
        "\\\\\n",
        "x_1=2 &\\hspace{1in} x_2=\\frac{3}{2}\n",
        "\\end{align}\n",
        "$$"
      ],
      "metadata": {
        "id": "ECEV27J5gEam"
      }
    },
    {
      "cell_type": "code",
      "source": [
        "# Definimos el nuevo valor de x2.\n",
        "x2 = 3/2\n",
        "# utilizamos condicionales para evaluar el nuevo valor.\n",
        "if (3*x2-5)**2 == (x2-1)**2:\n",
        "  print(\"x2 es solución de la ecuación\")\n",
        "else:\n",
        "  print(\"x2 no es solución de la ecuación\")"
      ],
      "metadata": {
        "colab": {
          "base_uri": "https://localhost:8080/"
        },
        "id": "C22hsepXjcgq",
        "outputId": "02a3ec94-109b-4b28-9a34-68136a3090ce"
      },
      "execution_count": 6,
      "outputs": [
        {
          "output_type": "stream",
          "name": "stdout",
          "text": [
            "x2 es solución de la ecuación\n"
          ]
        }
      ]
    },
    {
      "cell_type": "markdown",
      "source": [
        "Como podemos comprobar en el código de Python el nuevo valor de $x=\\frac{3}{2}$ es solución de la ecuación."
      ],
      "metadata": {
        "id": "ftm3yYRIkTUD"
      }
    },
    {
      "cell_type": "markdown",
      "source": [
        "2. b) Considerar $f(x) = x−5 +|x−5|+ 6$, graficar la función en Python, y con\n",
        "ayuda del gráfico, hallar los conjuntos\n",
        "$$\n",
        "\\begin{align}\n",
        "D &= {x ∈ R : f(x) = 16}\\\\\n",
        "E &= {x ∈ R : f(x) = 6}\\\\\n",
        "\\end{align}\n",
        "$$"
      ],
      "metadata": {
        "id": "wHjPJpSZklRb"
      }
    },
    {
      "cell_type": "markdown",
      "source": [
        "Escribimos el código para poder graficar la ecuación.\n"
      ],
      "metadata": {
        "id": "zMGkTCrNmatC"
      }
    },
    {
      "cell_type": "code",
      "source": [
        "\n",
        "# Definimos f(x).\n",
        "intervalo=[]\n",
        "def f_de_x(intervalo)->intervalo:\n",
        "  x1=x[x<5] # Partimos el dominio tal que x sea menor que 5 para tener en cuenta el módulo.\n",
        "  x2=x[x>=5]\n",
        "  y1=x1-5-(x1-5)+6 # Se coloca el signo menos para invertir el signo por la definición del módulo.\n",
        "  y2=x2-5+x2-5+6 # El caso de módulo positivo. \n",
        "  return np.concatenate((y1,y2)) # Concatenamos las imagenes para obtener y asecas.\n",
        "\n",
        "x = np.arange(-6,16,0.1) # Utilizamos la función de numpy arange(inicio,final,salto).\n",
        "y = f_de_x(x)\n",
        "# Creamos los gráficos mediante subplots.\n",
        "\n",
        "plt.plot(x,y, label='f(x)')\n",
        "\n",
        "# Limitamos el rango de y para poder ver algo\n",
        "plt.ylim(-5,20)\n",
        "\n",
        "# Limitamos el rango de x al rango de x1 y x2\n",
        "plt.xlim(-5,20)\n",
        "\n",
        "# Ejecutamos el comando para que muestre la grilla\n",
        "plt.grid()\n",
        "\n",
        "# Etiquetamos el eje x y eje y\n",
        "plt.xlabel('eje x')\n",
        "plt.ylabel('eje y')\n",
        "\n",
        "# Colocamos un título.\n",
        "plt.title('f(x)')\n",
        "\n",
        "plt.legend() # Comando para que muestre las etiquetas.\n",
        "\n",
        "plt.show()"
      ],
      "metadata": {
        "id": "4FSZYd0WmYXE",
        "outputId": "d1adfa23-6332-45ed-f706-48d2aefd8a1a",
        "colab": {
          "base_uri": "https://localhost:8080/",
          "height": 472
        }
      },
      "execution_count": 7,
      "outputs": [
        {
          "output_type": "display_data",
          "data": {
            "text/plain": [
              "<Figure size 640x480 with 1 Axes>"
            ],
            "image/png": "[encoded data removed]"
          },
          "metadata": {}
        }
      ]
    },
    {
      "cell_type": "markdown",
      "source": [
        "Por el gráfico representado podemos deducir que $E=\\{-\\infty;5\\}$ y que el conjunto $D$ solo posee un elemento ya que para $y=16$, $f(x)$ es una funcion lineal creciente. Por lo que sólo habrá un valor de $x$ tal que $y=16$. Analiticamente:<br />\n",
        "$$\n",
        "\\begin{align}\n",
        "x-5+|x-5|+6&=16\\\\\n",
        "x+|x-5|+1&=16\\\\\n",
        "|x-5|&=16-1-x\\\\ \\\\\n",
        "x-5=15-x\\hspace{1in}&-(x-5)=15-x\\\\\n",
        "x+x=15+5\\hspace{1in}&-x+5=15-x\\\\\n",
        "2x=20\\hspace{1in}&-x+x=15-5\\\\\n",
        "x=10\\hspace{1in}&0\\neq10\\\\\n",
        "\\end{align}\n",
        "$$<br />\n",
        "La única solución es $x=10$ entonces $D=\\{10\\}$."
      ],
      "metadata": {
        "id": "zssNnyM_vDFn"
      }
    },
    {
      "cell_type": "markdown",
      "source": [
        "3. Sea $f$ la función cuadrática,\n",
        "\n",
        "$$\n",
        "\\begin{align}\n",
        "f(x) = 2x^2 + 20x − 2400\n",
        "\\end{align}\n",
        "$$\n",
        "\n",
        "Hallar el conjunto de ceros, $C_0$ de $f(x)$. Encontrar la función lineal $g(x)$ que pasa por el vértice de $f(x)$ y el punto del gráfico $Q$ de $f(x)$ que es de la forma $Q = (a, b)$, donde $a = 10$. Representar los gráficos de ambas funciones, pintar de distintos colores los siguientes puntos:<br />\n",
        "> 3.a) El vértice de $f(x)$ y el punto $Q$<br />\n",
        " 3.b) La ordenada al origen de $g$,<br />\n",
        " 3.c) Los puntos de intersección de los gráficos de las dos funciones.<br />"
      ],
      "metadata": {
        "id": "LGOkd8dxekcH"
      }
    },
    {
      "cell_type": "markdown",
      "source": [
        "4. Hallar el $C_0$ de las funciones $f$ y $g$\n",
        "$$\n",
        "\\begin{align}\n",
        "f(x) = ln(2x^2 + 1) − 2\\\\\n",
        "g(x) = e^{2x+ln(3)+1} − 3e\\\\\n",
        "\\end{align}\n",
        "$$"
      ],
      "metadata": {
        "id": "jmCiCzqpiOHe"
      }
    },
    {
      "cell_type": "markdown",
      "source": [
        "5. Del conjunto de datos ofrecidos, elegir un país de su interés y realizar un gráfico del producto bruto interno vs. tiempo. Elaborar un texto que acompañe al gráfico.\n",
        "El texto deberá describir la información visualizada, señalar los periodos de crecimiento y decrecimiento de la serie temporal -máximos y mínimos locales- y brindar posibles explicaciones del comportamiento observado. Para la formulación de estas explicaciones, se recomienda la revisión de medios de información y artículos de opinión que permitan reconstruir la situación socio-económica del país elegido en los períodos identicados. El conjunto de datos puede verse en el siguiente Colab: \n",
        "https://colab.research.google.com/drive/1q_jZbMKDI7GiWYmSnbVSnHWqTVjMtVMj"
      ],
      "metadata": {
        "id": "YrtctHhtiztD"
      }
    },
    {
      "cell_type": "code",
      "source": [
        "pip install gapminder"
      ],
      "metadata": {
        "id": "4kHnWKWYk6Sp"
      },
      "execution_count": null,
      "outputs": []
    },
    {
      "cell_type": "markdown",
      "source": [
        "## Posibles países:\n",
        "Esta es una lista de posibles países que pueden usar, solo tienen que poner el nombre del país tal cuál está en la lista en la variable \"pais\".\n",
        "\n",
        "* Afghanistan\n",
        "* Argentina\n",
        "* Central African Republic\n",
        "* Haiti\n",
        "* Venezuela  \n",
        "\n",
        "En la próxima celda podrán disponer de una lista completa de paises."
      ],
      "metadata": {
        "id": "qXE4ihJGk7f7"
      }
    },
    {
      "cell_type": "code",
      "source": [
        "# Lista completa de países disponibles\n",
        "from gapminder import gapminder\n",
        "gapminder.country.unique()"
      ],
      "metadata": {
        "id": "lQOvI5RKlDLX"
      },
      "execution_count": null,
      "outputs": []
    },
    {
      "cell_type": "code",
      "source": [
        "pais = \"Argentina\"\n",
        "data = gapminder[gapminder.country == pais]\n",
        "year = data.year # eje x\n",
        "PBI = data.gdpPercap # eje y"
      ],
      "metadata": {
        "id": "vpY8MTJTlGwf"
      },
      "execution_count": null,
      "outputs": []
    }
  ],
  "metadata": {
    "colab": {
      "provenance": [],
      "include_colab_link": true
    },
    "kernelspec": {
      "display_name": "general_ml",
      "language": "python",
      "name": "python3"
    },
    "language_info": {
      "codemirror_mode": {
        "name": "ipython",
        "version": 3
      },
      "file_extension": ".py",
      "mimetype": "text/x-python",
      "name": "python",
      "nbconvert_exporter": "python",
      "pygments_lexer": "ipython3",
      "version": "3.10.4"
    },
    "vscode": {
      "interpreter": {
        "hash": "500c13cf53442f32c46d8caa9362a7fb75621b4fa25e8da1bc82b330802ecc3a"
      }
    }
  },
  "nbformat": 4,
  "nbformat_minor": 0
}